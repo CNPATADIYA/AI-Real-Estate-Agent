{
 "cells": [
  {
   "cell_type": "markdown",
   "metadata": {},
   "source": []
  },
  {
   "cell_type": "code",
   "execution_count": 1,
   "metadata": {},
   "outputs": [
    {
     "name": "stderr",
     "output_type": "stream",
     "text": [
      "C:\\Users\\chira\\AppData\\Local\\Temp\\ipykernel_5752\\1707036427.py:5: LangChainDeprecationWarning: As of langchain-core 0.3.0, LangChain uses pydantic v2 internally. The langchain_core.pydantic_v1 module was a compatibility shim for pydantic v1, and should no longer be used. Please update the code to import from Pydantic directly.\n",
      "\n",
      "For example, replace imports like: `from langchain_core.pydantic_v1 import BaseModel`\n",
      "with: `from pydantic import BaseModel`\n",
      "or the v1 compatibility namespace if you are working in a code base that has not been fully upgraded to pydantic 2 yet. \tfrom pydantic.v1 import BaseModel\n",
      "\n",
      "  from langchain_community.llms.ollama import Ollama\n"
     ]
    }
   ],
   "source": [
    "from langchain_core.messages import AIMessage, HumanMessage\n",
    "from langchain_core.output_parsers import StrOutputParser\n",
    "from langchain_core.prompts import ChatPromptTemplate\n",
    "from langchain.chat_models import init_chat_model\n",
    "from langchain_community.llms.ollama import Ollama\n",
    "from langchain_huggingface import HuggingFaceEmbeddings\n",
    "from langchain_community.vectorstores import FAISS"
   ]
  },
  {
   "cell_type": "code",
   "execution_count": 53,
   "metadata": {},
   "outputs": [
    {
     "data": {
      "text/plain": [
       "5819"
      ]
     },
     "execution_count": 53,
     "metadata": {},
     "output_type": "execute_result"
    }
   ],
   "source": [
    "import json\n",
    "file_path = \"../data/cleaned_ahm_housing_data.json\"\n",
    "# Load property data\n",
    "def load_data(file_path):\n",
    "    with open(file_path, \"r\", encoding=\"utf-8\") as f:\n",
    "        return json.load(f)\n",
    "\n",
    "data = load_data(file_path)\n",
    "len(data)"
   ]
  },
  {
   "cell_type": "code",
   "execution_count": 54,
   "metadata": {},
   "outputs": [
    {
     "data": {
      "text/plain": [
       "5819"
      ]
     },
     "execution_count": 54,
     "metadata": {},
     "output_type": "execute_result"
    }
   ],
   "source": [
    "from langchain.docstore.document import Document\n",
    "documents = []\n",
    "for x in data:\n",
    "    content = str(x)\n",
    "    documents.append(Document(page_content=content, metadata={\"url\": x[\"url\"]}))\n",
    "len(documents)"
   ]
  },
  {
   "cell_type": "code",
   "execution_count": 55,
   "metadata": {},
   "outputs": [],
   "source": [
    "embeddings = HuggingFaceEmbeddings(model_name=\"sentence-transformers/multi-qa-mpnet-base-dot-v1\")"
   ]
  },
  {
   "cell_type": "code",
   "execution_count": 56,
   "metadata": {},
   "outputs": [],
   "source": [
    "vector_store = FAISS.from_documents(documents, embeddings)\n",
    "vector_store.save_local(\"property_vector_db\")"
   ]
  },
  {
   "cell_type": "code",
   "execution_count": 57,
   "metadata": {},
   "outputs": [],
   "source": [
    "# Initialize vector_store & LLM\n",
    "vector_store = FAISS.load_local(\"property_vector_db\",  embeddings)\n",
    "retriever = vector_store.as_retriever(search_type=\"similarity\", search_kwargs={\"k\": 5})\n"
   ]
  },
  {
   "cell_type": "code",
   "execution_count": 2,
   "metadata": {},
   "outputs": [],
   "source": [
    "llm = init_chat_model(\"llama3-8b-8192\", model_provider=\"groq\")"
   ]
  },
  {
   "cell_type": "code",
   "execution_count": 7,
   "metadata": {},
   "outputs": [
    {
     "data": {
      "text/plain": [
       "AIMessage(content=\"Here's one:\\n\\nWhy couldn't the bicycle stand up by itself?\\n\\n(wait for it...)\\n\\nBecause it was two-tired!\\n\\nHope that made you laugh!\", additional_kwargs={}, response_metadata={'token_usage': {'completion_tokens': 32, 'prompt_tokens': 13, 'total_tokens': 45, 'completion_time': 0.026666667, 'prompt_time': 0.00538613, 'queue_time': 0.178578184, 'total_time': 0.032052797}, 'model_name': 'llama3-8b-8192', 'system_fingerprint': 'fp_179b0f92c9', 'finish_reason': 'stop', 'logprobs': None}, id='run-e4cdfea1-d33e-4995-9a35-56f38b3bbd3f-0', usage_metadata={'input_tokens': 13, 'output_tokens': 32, 'total_tokens': 45})"
      ]
     },
     "execution_count": 7,
     "metadata": {},
     "output_type": "execute_result"
    }
   ],
   "source": [
    "llm.invoke(\"Tell me joke\")"
   ]
  },
  {
   "cell_type": "code",
   "execution_count": 78,
   "metadata": {},
   "outputs": [],
   "source": [
    "initial_query = f\"\"\"Hello, I am looking for a property in Ahmedabad.  \n",
    "My budget is between ₹50L - ₹1Cr.  \n",
    "I am interested in properties in the following areas: Shela, Shilaj, and South Bopal.  \n",
    "The property configuration should be either 2 BHK or 3 BHK.  \n",
    "Please provide only the budget, address, and property configuration details in the response.\"\"\""
   ]
  },
  {
   "cell_type": "code",
   "execution_count": 79,
   "metadata": {},
   "outputs": [
    {
     "data": {
      "text/plain": [
       "UserPreference(budget=Budget(min=50, max=100), address=['Shela', 'Shilaj', 'South Bopal'], property_config=['2 BHK', '3 BHK'])"
      ]
     },
     "execution_count": 79,
     "metadata": {},
     "output_type": "execute_result"
    }
   ],
   "source": [
    "from typing import List, Dict, Union\n",
    "from pydantic import BaseModel, Field\n",
    "\n",
    "class Budget(BaseModel):\n",
    "    min: int = Field(description=\"Minimum budget\")\n",
    "    max: int = Field(description=\"Maximum budget\")\n",
    "\n",
    "class UserPreference(BaseModel):\n",
    "    budget: Budget = Field(description=\"Budget range for property purchase\")\n",
    "    address: List[str] = Field(description=\"Preferred locations for property purchase\")\n",
    "    property_config: List[str] = Field(description=\"Property configuration preferences (e.g., 2 BHK, 3 BHK)\")\n",
    "\n",
    "\n",
    "# class UserPreference(BaseModel):\n",
    "#     budget: Dict[str, int] = Field(description=\"Budget range for property purchase\")\n",
    "#     address: List[str] = Field(description=\"Preferred locations for property purchase\")\n",
    "#     property_config: Dict[str, List[str]] = Field(description=\"Property configuration preferences (e.g., 2 BHK, 3 BHK)\")\n",
    "#     property_type: str = Field(description=\"Type of property (e.g., apartment, villa)\", default=\"apartment\")\n",
    "#     possession: Dict[str, int] = Field(description=\"Possession time in months\")\n",
    "\n",
    "structured_llm = llm.with_structured_output(UserPreference)\n",
    "response = structured_llm.invoke(initial_query)\n",
    "response"
   ]
  },
  {
   "cell_type": "code",
   "execution_count": 25,
   "metadata": {},
   "outputs": [
    {
     "name": "stdout",
     "output_type": "stream",
     "text": [
      "{'gte': 5000000, 'lte': 10000000}\n",
      "['Shela', 'Shilaj', 'South Bopal']\n",
      "[{'bhk': 2}, {'bhk': 3}]\n"
     ]
    }
   ],
   "source": [
    "print(response.budget)\n",
    "print(response.address)\n",
    "print(response.property_config)"
   ]
  },
  {
   "cell_type": "code",
   "execution_count": null,
   "metadata": {},
   "outputs": [],
   "source": []
  },
  {
   "cell_type": "code",
   "execution_count": 10,
   "metadata": {},
   "outputs": [
    {
     "name": "stderr",
     "output_type": "stream",
     "text": [
      "C:\\Users\\chira\\AppData\\Local\\Temp\\ipykernel_22864\\967772629.py:12: LangChainDeprecationWarning: The method `BaseRetriever.get_relevant_documents` was deprecated in langchain-core 0.1.46 and will be removed in 1.0. Use :meth:`~invoke` instead.\n",
      "  retriever.get_relevant_documents(str(user_query))\n"
     ]
    },
    {
     "data": {
      "text/plain": [
       "[Document(id='a43ed9c9-0a79-4657-bfc2-c9efd77f5921', metadata={'url': 'https://housing.com/buy-pramukh-shypram-sky-by-pramukh-nirman-assets-llp-in-chanakyapuri-ahmedabad-pid-261963'}, page_content=\"{'url': 'https://housing.com/buy-pramukh-shypram-sky-by-pramukh-nirman-assets-llp-in-chanakyapuri-ahmedabad-pid-261963', 'name': 'Pramukh Shypram Sky', 'developer': 'Pramukh Nirman Assets LLP', 'address': 'Uma Bunglows, Opp. Ganesh Park, ,Shukan Bunglow Road, Chanakyapuri, North West, Ahmedabad', 'price_range': '1.2 Cr - 1.62 Cr', 'basic_details': {'Configurations': '3, 4 BHK Apartments', 'Possession Starts': 'Mar, 2025', 'Avg. Price': '₹1.15 Lacs - 1.3 Lacs/sq.mt'}, 'nearby_places': [{'Category': 'School', 'Name': 'I D Patel School', 'Travel Time': '1 min', 'Distance': '(0.6 km)'}, {'Category': 'Hospital', 'Name': 'Shayona Hospital & ICU', 'Travel Time': '2 mins', 'Distance': '(1.4 km)'}, {'Category': 'Restaurant', 'Name': 'Friesbag', 'Travel Time': '2 mins', 'Distance': '(1 km)'}, {'Category': 'Mall', 'Name': 'Devnandan Complex', 'Travel Time': '2 mins', 'Distance': '(1.2 km)'}, {'Category': 'Bus Stand', 'Name': 'Ranna Park Bus Stop', 'Travel Time': '4 mins', 'Distance': '(2.6 km)'}], 'project_details': {'Project Area': '1.68 Acres', 'Sizes': '104.61 - 124.58 sq.mt.', 'Project Size': '3 Buildings - 161 units', 'Launch Date': 'Jul, 2021', 'Avg. Price': '1.15 Lacs - 1.3 Lacs/sq.mt', 'Possession Starts': 'Mar, 2025', 'Configurations': '3, 4 BHK Apartments', 'Rera Id': 'https://gujrera.gujarat.gov.in/#/project-preview'}, 'description': 'Pramukh Shypram Sky is a residential project in Chanakyapuri, Ahmedabad. It is set in an area of 1.68 Acres . Pramukh Shypram Sky offers Apartment. Available configurations include 3 BHK, 4 BHK. Apartment, as per the area plan, are in the size range of 104.61 - 124.58 sq.mt.. The property is Under Construction. There are 3 buildings for sale. The project was launched in July 2021 and possession date of Pramukh Shypram Sky is Mar, 2025. Pramukh Shypram Sky is located in Uma Bunglows, Opp. Ganesh Park, ,Shukan Bunglow Road, Chanakyapuri. The project is developed by Pramukh Nirman Assets LLP. There are 161 units for sale.Pramukh Shypram Sky is equipped with various resident-centric amenities that includes Power Backup. The property is equipped with Fire Sprinklers. Enjoy a class-apart lifestyle at Pramukh Shypram Sky.This project meets all mandates as required by the state authority. RERA ID of Pramukh Shypram Sky is PR/GJ/AHMEDABAD/AHMEDABAD CITY/AUDA/MAA08761/130721.Located close to prominent suburbs of Ahmedabad, the area of Chanakyapuri has prominent schools and hospitals within a close distance.', 'bhk_details': [{'BHK Type': '3 BHK', 'Property Type': 'Apartment', 'Price': '1.2 Cr - 1.22 Cr'}, {'BHK Type': '4 BHK', 'Property Type': 'Apartment', 'Price': '1.4 Cr - 1.62 Cr'}], 'ratings': [{'Feature': 'Connectivity', 'Rating': '5/5'}, {'Feature': 'Neighbourhood', 'Rating': '4.8/5'}, {'Feature': 'Safety', 'Rating': '5/5'}, {'Feature': 'Livability', 'Rating': '4.5/5'}], 'good_points': ['Safe for children', 'Good school nearby', 'No water shortage', '+1 More'], 'bad_points': ['Low security', 'High price for area']}\"),\n",
       " Document(id='2f628915-2c9d-4f6d-9dad-a4b0c4f34669', metadata={'url': 'https://housing.com/buy-r-d-sai-sharnam-and-sai-platinum-by-r-d-developers-in-nikol-ahmedabad-pid-128180'}, page_content=\"{'url': 'https://housing.com/buy-r-d-sai-sharnam-and-sai-platinum-by-r-d-developers-in-nikol-ahmedabad-pid-128180', 'name': 'R D Sai Sharnam And Sai Platinum', 'developer': 'R D Developers', 'address': 'Fp No.65/1, Rs No.88/a/1, Tps 109 Hanspura Muthia, Near Laxmi Sky City, S P Ring Road, Near Dastan Circle, Nikol, North East, Ahmedabad', 'price_range': '25.92 L - 36.76 L', 'basic_details': {'Configurations': '1, 2 BHK Apartments', 'Possession Starts': 'Mar, 2021', 'Avg. Price': '₹2.96 K - 3.27 K/sq.ft'}, 'nearby_places': [{'Category': 'School', 'Name': 'Dipak School', 'Travel Time': '3 mins', 'Distance': '(1.1 km)'}, {'Category': 'Hospital', 'Name': 'Gangotri orthopaedic hospital', 'Travel Time': '2 mins', 'Distance': '(1.1 km)'}, {'Category': 'Railway Station', 'Name': 'Vastral Metro Station', 'Travel Time': '10 mins', 'Distance': '(8.5 km)'}, {'Category': 'Restaurant', 'Name': 'KRISHNA FOODS', 'Travel Time': '1 min', 'Distance': '(0.3 km)'}, {'Category': 'Mall', 'Name': 'Shivam Complex', 'Travel Time': '2 mins', 'Distance': '(1.1 km)'}], 'project_details': {'Project Area': '2 Acres', 'Sizes': '875 - 1125 sq.ft.', 'Project Size': '3 Buildings - 221 units', 'Launch Date': 'Jul, 2017', 'Avg. Price': '2.96 K - 3.27 K/sq.ft', 'Possession Starts': 'Mar, 2021', 'Configurations': '1, 2 BHK Apartments', 'Rera Id': 'https://gujrera.gujarat.gov.in/viewProjectDetailPage?projectID=4499'}, 'description': 'If you were looking for a housing project equipped with all the modern amenities, then RD Sai Sharnam is the project that is made for you. RD Developers have expressed an undeterred commitment to bring this project to a level which only a handful of projects can achieve. Situated in the outskirts of Ahmedabad, this project offers a calm and relaxed environment where you can live a peaceful life. At the same time, there is no dearth of facilities. The project is located at a distance of just 12-14 km from the Ahmedabad central. The quality of road network is simply superb and you can travel in and around Ahmedabad quite easily. Nevertheless, Nikol is known as a home for several commercial establishments that keep the local economy in the region upbeat. The employees working in the companies and factories operating from this location usually search for homes near their workplaces, and that way the demand for housing in the area remains vibrant.', 'bhk_details': [{'BHK Type': '1 BHK', 'Property Type': 'Apartment', 'Price': '25.92 L'}, {'BHK Type': '2 BHK', 'Property Type': 'Apartment', 'Price': '36.76 L'}], 'ratings': [{'Feature': 'Connectivity', 'Rating': '4.6/5'}, {'Feature': 'Neighbourhood', 'Rating': '4.5/5'}, {'Feature': 'Safety', 'Rating': '4.6/5'}, {'Feature': 'Livability', 'Rating': '4.7/5'}], 'good_points': ['Near airport, school, hospital', 'Good connectivity to amenities', 'Affordable compared to other areas', '+1 More'], 'bad_points': ['Traffic congestion during peak hours', 'Internal roads upkeep', 'Water logging during monsoon']}\"),\n",
       " Document(id='74628248-0328-4864-a07d-c6627d94b7a2', metadata={'url': 'https://housing.com/buy-d-and-c-meghdhanush-residency-by-d-c-developers-in-vastrapur-ahmedabad-pid-201543'}, page_content=\"{'url': 'https://housing.com/buy-d-and-c-meghdhanush-residency-by-d-c-developers-in-vastrapur-ahmedabad-pid-201543', 'name': 'D And C Meghdhanush Residency', 'developer': 'D & C Developers', 'address': 'Opp Devang Flats, Near Regency Tower, Nehru park ,Vastrapur, South West, Ahmedabad', 'price_range': '1.74 Cr - 2.63 Cr', 'basic_details': {'Configurations': '3, 4 BHK Apartments', 'Possession Starts': 'Jun, 2024', 'Avg. Price': '₹6.99 K/sq.ft'}, 'nearby_places': [{'Category': 'School', 'Name': 'Nirman High School', 'Travel Time': '1 min', 'Distance': '(0.4 km)'}, {'Category': 'Hospital', 'Name': 'Parth Hospital - Best Psychiatric Hospital in Ahmedabad', 'Travel Time': '1 min', 'Distance': '(0.1 km)'}, {'Category': 'Railway Station', 'Name': 'Doordarshan Kendra Metro Station', 'Travel Time': '3 mins', 'Distance': '(2.1 km)'}, {'Category': 'Restaurant', 'Name': 'Apna Punjab Paratha', 'Travel Time': '2 mins', 'Distance': '(1 km)'}, {'Category': 'Mall', 'Name': 'Sunrise mall', 'Travel Time': '1 min', 'Distance': '(0.4 km)'}], 'project_details': {'Sizes': '2490 - 3760 sq.ft.', 'Project Size': '1 Building - 16 units', 'Launch Date': 'Apr, 2019', 'Avg. Price': '6.99 K/sq.ft', 'Possession Starts': 'Jun, 2024', 'Configurations': '3, 4 BHK Apartments', 'Rera Id': 'https://gujrera.gujarat.gov.in/viewProjectDetailPage?projectID=8391'}, 'description': 'You always wanted a lovely apartment for your family right? That is why D and C Developers have brought to you the divine residential project called the Meghdhanush Residency in the Vastrapur area of Ahmedabad. You will get 3 and 4BHK apartments here. The possession will start from December 2023 onwards. The total project area is 0.27 acres. Vastrapur area is well connected with the rest of the city and is one of the posh areas in Ahmedabad. The airport is just 14.4km from Vastrapur. The proximity of the area to well-known hospitals, schools, colleges, recreational areas, restaurants, banks and ATMs etc. make this part of the city so desirable. The locality is peaceful with friendly neighbourhood. People from different part of the country live in this part. The flat complex is luxurious and loaded with amenities such as the availability of great interiors, the building is centrally air-conditioned, availability of lift, car parking area, power back up system, etc. the apartments are pretty spacious and look magnificent. These flats have everything that you want to make it your ideal home. So what next? Just hurry and visit the site to get the details.', 'bhk_details': [{'BHK Type': '3 BHK', 'Property Type': 'Apartment', 'Price': '1.74 Cr'}, {'BHK Type': '4 BHK', 'Property Type': 'Apartment', 'Price': '2.63 Cr'}], 'ratings': [{'Feature': 'Connectivity', 'Rating': '5/5'}, {'Feature': 'Neighbourhood', 'Rating': '5/5'}, {'Feature': 'Safety', 'Rating': '4.7/5'}, {'Feature': 'Livability', 'Rating': '5/5'}], 'good_points': ['Transportation facilities available', 'No water logging in monsoon', 'Nearby hospitals and malls', '+1 More'], 'bad_points': ['Improve drainage system']}\"),\n",
       " Document(id='f3bd6b86-0f10-4dc0-98cf-b7b7150aeb00', metadata={'url': 'https://housing.com/buy-aaryan-eminent-by-aryan-infrabuild-pvt-ltd-in-chanakyapuri-ahmedabad-pid-46131'}, page_content='{\\'url\\': \\'https://housing.com/buy-aaryan-eminent-by-aryan-infrabuild-pvt-ltd-in-chanakyapuri-ahmedabad-pid-46131\\', \\'name\\': \\'Aaryan Eminent\\', \\'developer\\': \\'Aryan Infrabuild Pvt Ltd\\', \\'address\\': \\'Off S. G. Highway, Opp Kargil Petrol Pump, Ghatlodia Bridge Road, Sola, Near Paldi, Ahmedabad, North West, Ahmedabad\\', \\'price_range\\': \\'68.4 L - 97.47 L\\', \\'basic_details\\': {\\'Configurations\\': \\'3, 4 BHK Apartments\\', \\'Possession Status\\': \\'Ready to Move\\', \\'Avg. Price\\': \\'₹3.8 K/sq.ft\\'}, \\'nearby_places\\': [{\\'Category\\': \\'School\\', \\'Name\\': \\'Sumati Vidhya Vihar, Ghatlodiya,\\', \\'Travel Time\\': \\'1 min\\', \\'Distance\\': \\'(0.4 km)\\'}, {\\'Category\\': \\'Hospital\\', \\'Name\\': \\'Shayona Hospital & ICU\\', \\'Travel Time\\': \\'2 mins\\', \\'Distance\\': \\'(1.1 km)\\'}, {\\'Category\\': \\'Restaurant\\', \\'Name\\': \\'Sola Honest\\', \\'Travel Time\\': \\'3 mins\\', \\'Distance\\': \\'(1.3 km)\\'}, {\\'Category\\': \\'Mall\\', \\'Name\\': \\'Devnandan Complex\\', \\'Travel Time\\': \\'2 mins\\', \\'Distance\\': \\'(0.9 km)\\'}, {\\'Category\\': \\'Bus Stand\\', \\'Name\\': \\'Ranna Park Bus Stop\\', \\'Travel Time\\': \\'3 mins\\', \\'Distance\\': \\'(2.2 km)\\'}], \\'project_details\\': {\\'Sizes\\': \\'1800 - 2565 sq.ft.\\', \\'Project Size\\': \\'3 Buildings - 114 units\\', \\'Launch Date\\': \\'May, 2013\\', \\'Avg. Price\\': \\'3.8 K/sq.ft\\', \\'Possession Status\\': \\'Ready to Move\\', \\'Configurations\\': \\'3, 4 BHK Apartments\\'}, \\'description\\': \"Aryan Infrabuild Pvt Ltd has launched Aaryan Eminent, a residential housing project located in Chanakyapuri at Chanakyapuri. The Apartment are very spacious and the size starts from 1800.0 sq ft. Aaryan Eminent is in close proximity to many reputed schools and hospitals. Ahmedabad District is a prime area, with many attractions work and recreational options just a drive away. The project offers many amenities such as Indoor Game Room   Billiards/Snooker Table, Carom Board, Table Tennis, Foosball Table, Children\\'s Play Area, Landscaped Garden, Power Backup and Cycling & Jogging Track.\", \\'bhk_details\\': [{\\'BHK Type\\': \\'3 BHK\\', \\'Property Type\\': \\'Apartment\\', \\'Price\\': \\'68.4 L - 70.11 L\\'}, {\\'BHK Type\\': \\'4 BHK\\', \\'Property Type\\': \\'Apartment\\', \\'Price\\': \\'82.08 L - 97.47 L\\'}], \\'ratings\\': [{\\'Feature\\': \\'Connectivity\\', \\'Rating\\': \\'5/5\\'}, {\\'Feature\\': \\'Neighbourhood\\', \\'Rating\\': \\'4.8/5\\'}, {\\'Feature\\': \\'Safety\\', \\'Rating\\': \\'5/5\\'}, {\\'Feature\\': \\'Livability\\', \\'Rating\\': \\'4.5/5\\'}], \\'good_points\\': [\\'Safe for children\\', \\'Good school nearby\\', \\'No water shortage\\', \\'+1 More\\'], \\'bad_points\\': [\\'Low security\\', \\'High price for area\\']}'),\n",
       " Document(id='a8ade9a5-4fa3-416a-9848-8d58474f0963', metadata={'url': 'https://housing.com/buy-jk-rinku-apartments-by-jk-properties-in-jasodanagr-ahmedabad-pid-130494'}, page_content=\"{'url': 'https://housing.com/buy-jk-rinku-apartments-by-jk-properties-in-jasodanagr-ahmedabad-pid-130494', 'name': 'JK Rinku Apartments', 'developer': 'JK Properties', 'address': 'Near Bank Of Baroda, Near Daxini Underpass, Maniyasa Society, Maninagar, South East, Ahmedabad', 'price_range': '52.5 L', 'basic_details': {'Configuration': '2 BHK Apartment', 'Possession Starts': 'Jan, 2022', 'Avg. Price': '₹4.22 K/sq.ft'}, 'nearby_places': [{'Category': 'School', 'Name': 'Sri Swaminarayan Vidya Mandir', 'Travel Time': '3 mins', 'Distance': '(2.1 km)'}, {'Category': 'Hospital', 'Name': 'Shivam Multi-speciality Hospital', 'Travel Time': '2 mins', 'Distance': '(0.8 km)'}, {'Category': 'Restaurant', 'Name': 'Mayur Restaurant & Banquet', 'Travel Time': '1 min', 'Distance': '(0.5 km)'}, {'Category': 'Mall', 'Name': 'Parsi Panchayat Complex', 'Travel Time': '2 mins', 'Distance': '(0.9 km)'}, {'Category': 'Bus Stand', 'Name': 'Lakshminarayan Society Turning Bus Stop', 'Travel Time': '3 mins', 'Distance': '(2.2 km)'}], 'project_details': {'Size': '1080 sq.ft.', 'Project Size': '49 units', 'Launch Date': 'Jun, 2018', 'Avg. Price': '4.22 K/sq.ft', 'Possession Starts': 'Jan, 2022', 'Configuration': '2 BHK Apartment', 'Rera Id': 'https://gujrera.gujarat.gov.in/viewProjectDetailPage?projectID=6991'}, 'description': 'JK property is launching amazing residential real estate project in Ahmedabad. It is located in one of the most important part of the city that is Maninagar in Ahmedabad. The flats are amazingly designed according to the current trend. They are also pretty spacious enough and lets the residents design their flats according to their own desire to make it their dream home. The apartment gives you a sensation of leisure and gives you an occasion to live in heaven of your own. Also with the fancy appearance the flats offers you complete security since it is under CCTV surveillance 24x7 and securities for 24x7also. It provides the residents the privilege of getting car parking facility as an added advantage. The water supply which is usually one of the main issues in the city is not a problem here. This is because water is available for 24 hours. Now, every one of us loves comfort in everything. So, Rinku Apartments with all the other comforts also offers you the privilege of availing lifts also. More About This Property JK Rinku Apartments is a project by JK Properties in Ahmedabad. It is a Under Construction project. JK Rinku Apartments offers some of the most conveniently designed Apartment. Located in Jasodanagr, it is a residential project. It has 49 units. JK Rinku Apartments offers some of the most exclusive 2 BHK. As per the area plan, units are in the size of 1080.0 sq.ft.. Launched in June 2018, JK Rinku Apartments is slated for possession in Jan, 2022. The address of JK Rinku Apartments is Near Bank Of Baroda, Near Daxini Underpass, Maniyasa Society, Maninagar.JK Rinku Apartments ensures a coveted lifestyle and offers a convenient living. There is 24x7 Security.The project is RERA compliant and fulfils all necessities as required by the authorities. RERA ID of JK Rinku Apartments is PR/GJ/AHMEDABAD/AHMEDABAD CITY/AUDA/RAA03938/021118.Jasodanagr is well-connected to other parts of the city via an extensive road.', 'bhk_details': [{'BHK Type': '2 BHK', 'Property Type': 'Apartment', 'Price': '52.5 L'}], 'ratings': [{'Feature': 'Connectivity', 'Rating': '5/5'}, {'Feature': 'Neighbourhood', 'Rating': '5/5'}, {'Feature': 'Safety', 'Rating': '5/5'}, {'Feature': 'Livability', 'Rating': '5/5'}], 'good_points': ['Garden area', 'Jasoda Nagar locality'], 'bad_points': []}\")]"
      ]
     },
     "execution_count": 10,
     "metadata": {},
     "output_type": "execute_result"
    }
   ],
   "source": [
    "user_query = {\n",
    "    \"query\": \"I am looking for a 3 BHK apartment in Ahmedabad with a budget of 90L.\",\n",
    "    \"budget\": \"60L - 90L\",\n",
    "    \"location\": \"Ahmedabad\",\n",
    "    \"property_type\": \"Apartment\",\n",
    "    \"bhk\": \"2\",\n",
    "    \"amenities\": \"Gym, Security, Parking\",\n",
    "    \"proximity\": \"Near Schools, Hospitals\",\n",
    "    \"loan_emi\": \"Willing to take a loan\",\n",
    "    \"possession\": \"Ready to Move\"\n",
    "}\n",
    "retriever.get_relevant_documents(str(user_query))"
   ]
  },
  {
   "cell_type": "code",
   "execution_count": 7,
   "metadata": {},
   "outputs": [],
   "source": [
    "system_prompt = (\n",
    "    \"You are an realestate advisor for advising user to buy properties based on their preference. \"\n",
    "    \"Use the following pieces of retrieved context to answer \"\n",
    "    \"the question. If you don't know the answer, say that you \"\n",
    "    \"don't know. Show all retrived context to user and explain everything about properties and give analysis why should they buy it\"\n",
    "    \"\\n\\n\"\n",
    "    \"{context}\"\n",
    ")"
   ]
  },
  {
   "cell_type": "code",
   "execution_count": 83,
   "metadata": {},
   "outputs": [],
   "source": [
    "from langchain_core.prompts import ChatPromptTemplate\n",
    "from langchain.chains import create_retrieval_chain\n",
    "from langchain.chains.combine_documents import create_stuff_documents_chain\n",
    "\n",
    "prompt = ChatPromptTemplate.from_messages(\n",
    "    [\n",
    "        (\"system\", system_prompt),\n",
    "        (\"human\", \"{input}\"),\n",
    "    ]\n",
    ")\n",
    "\n",
    "question_answer_chain = create_stuff_documents_chain(structured_llm, prompt)\n",
    "rag_chain = create_retrieval_chain(retriever, question_answer_chain)"
   ]
  },
  {
   "cell_type": "code",
   "execution_count": 13,
   "metadata": {},
   "outputs": [],
   "source": [
    "initial_query = f\"\"\"Hello, I am finding property in Ahmedabad.  \n",
    "The possession should be within 3 years. \n",
    "I am looking for Only New Construction. \n",
    "Property type is apartment and configuration can be [2 BKH, 3 BHK]. \n",
    "I am finding properties in the following areas: [Shela, Shilaj, south bopal].  \n",
    "My budget is ₹50L - ₹1Cr. \n",
    "I want to have Quiet & Residential neighborhood.\"\"\""
   ]
  },
  {
   "cell_type": "code",
   "execution_count": 12,
   "metadata": {},
   "outputs": [],
   "source": [
    "user_query = {\n",
    "    \"price\": \"between 60L  to 90L\",\n",
    "    \"location\": \"Ahmedabad\",\n",
    "    \"property_type\": \"Apartment\",\n",
    "    \"BHK Type\": [\"2 BHK\", \"3 BHK\"],\n",
    "    \"amenities\": \"Gym, Security, Parking\",\n",
    "    \"proximity\": \"Near Schools, Hospitals\",\n",
    "    \"possession\": \"within 3 years\",\n",
    "    \"address\": [\"Shela\", \"South Bopal\", \"Shilaj\"]\n",
    "}"
   ]
  },
  {
   "cell_type": "code",
   "execution_count": 84,
   "metadata": {},
   "outputs": [
    {
     "ename": "BadRequestError",
     "evalue": "Error code: 400 - {'error': {'message': 'Please reduce the length of the messages or completion.', 'type': 'invalid_request_error', 'param': 'messages', 'code': 'context_length_exceeded'}}",
     "output_type": "error",
     "traceback": [
      "\u001b[1;31m---------------------------------------------------------------------------\u001b[0m",
      "\u001b[1;31mBadRequestError\u001b[0m                           Traceback (most recent call last)",
      "Cell \u001b[1;32mIn[84], line 1\u001b[0m\n\u001b[1;32m----> 1\u001b[0m response \u001b[38;5;241m=\u001b[39m \u001b[43mrag_chain\u001b[49m\u001b[38;5;241;43m.\u001b[39;49m\u001b[43minvoke\u001b[49m\u001b[43m(\u001b[49m\u001b[43m{\u001b[49m\u001b[38;5;124;43m\"\u001b[39;49m\u001b[38;5;124;43minput\u001b[39;49m\u001b[38;5;124;43m\"\u001b[39;49m\u001b[43m:\u001b[49m\u001b[43m \u001b[49m\u001b[38;5;28;43mstr\u001b[39;49m\u001b[43m(\u001b[49m\u001b[43minitial_query\u001b[49m\u001b[43m)\u001b[49m\u001b[43m}\u001b[49m\u001b[43m)\u001b[49m\n\u001b[0;32m      2\u001b[0m response\n",
      "File \u001b[1;32md:\\web development\\chatbot\\venv\\Lib\\site-packages\\langchain_core\\runnables\\base.py:5360\u001b[0m, in \u001b[0;36mRunnableBindingBase.invoke\u001b[1;34m(self, input, config, **kwargs)\u001b[0m\n\u001b[0;32m   5354\u001b[0m \u001b[38;5;28;01mdef\u001b[39;00m\u001b[38;5;250m \u001b[39m\u001b[38;5;21minvoke\u001b[39m(\n\u001b[0;32m   5355\u001b[0m     \u001b[38;5;28mself\u001b[39m,\n\u001b[0;32m   5356\u001b[0m     \u001b[38;5;28minput\u001b[39m: Input,\n\u001b[0;32m   5357\u001b[0m     config: Optional[RunnableConfig] \u001b[38;5;241m=\u001b[39m \u001b[38;5;28;01mNone\u001b[39;00m,\n\u001b[0;32m   5358\u001b[0m     \u001b[38;5;241m*\u001b[39m\u001b[38;5;241m*\u001b[39mkwargs: Optional[Any],\n\u001b[0;32m   5359\u001b[0m ) \u001b[38;5;241m-\u001b[39m\u001b[38;5;241m>\u001b[39m Output:\n\u001b[1;32m-> 5360\u001b[0m     \u001b[38;5;28;01mreturn\u001b[39;00m \u001b[38;5;28;43mself\u001b[39;49m\u001b[38;5;241;43m.\u001b[39;49m\u001b[43mbound\u001b[49m\u001b[38;5;241;43m.\u001b[39;49m\u001b[43minvoke\u001b[49m\u001b[43m(\u001b[49m\n\u001b[0;32m   5361\u001b[0m \u001b[43m        \u001b[49m\u001b[38;5;28;43minput\u001b[39;49m\u001b[43m,\u001b[49m\n\u001b[0;32m   5362\u001b[0m \u001b[43m        \u001b[49m\u001b[38;5;28;43mself\u001b[39;49m\u001b[38;5;241;43m.\u001b[39;49m\u001b[43m_merge_configs\u001b[49m\u001b[43m(\u001b[49m\u001b[43mconfig\u001b[49m\u001b[43m)\u001b[49m\u001b[43m,\u001b[49m\n\u001b[0;32m   5363\u001b[0m \u001b[43m        \u001b[49m\u001b[38;5;241;43m*\u001b[39;49m\u001b[38;5;241;43m*\u001b[39;49m\u001b[43m{\u001b[49m\u001b[38;5;241;43m*\u001b[39;49m\u001b[38;5;241;43m*\u001b[39;49m\u001b[38;5;28;43mself\u001b[39;49m\u001b[38;5;241;43m.\u001b[39;49m\u001b[43mkwargs\u001b[49m\u001b[43m,\u001b[49m\u001b[43m \u001b[49m\u001b[38;5;241;43m*\u001b[39;49m\u001b[38;5;241;43m*\u001b[39;49m\u001b[43mkwargs\u001b[49m\u001b[43m}\u001b[49m\u001b[43m,\u001b[49m\n\u001b[0;32m   5364\u001b[0m \u001b[43m    \u001b[49m\u001b[43m)\u001b[49m\n",
      "File \u001b[1;32md:\\web development\\chatbot\\venv\\Lib\\site-packages\\langchain_core\\runnables\\base.py:3024\u001b[0m, in \u001b[0;36mRunnableSequence.invoke\u001b[1;34m(self, input, config, **kwargs)\u001b[0m\n\u001b[0;32m   3022\u001b[0m             \u001b[38;5;28minput\u001b[39m \u001b[38;5;241m=\u001b[39m context\u001b[38;5;241m.\u001b[39mrun(step\u001b[38;5;241m.\u001b[39minvoke, \u001b[38;5;28minput\u001b[39m, config, \u001b[38;5;241m*\u001b[39m\u001b[38;5;241m*\u001b[39mkwargs)\n\u001b[0;32m   3023\u001b[0m         \u001b[38;5;28;01melse\u001b[39;00m:\n\u001b[1;32m-> 3024\u001b[0m             \u001b[38;5;28minput\u001b[39m \u001b[38;5;241m=\u001b[39m \u001b[43mcontext\u001b[49m\u001b[38;5;241;43m.\u001b[39;49m\u001b[43mrun\u001b[49m\u001b[43m(\u001b[49m\u001b[43mstep\u001b[49m\u001b[38;5;241;43m.\u001b[39;49m\u001b[43minvoke\u001b[49m\u001b[43m,\u001b[49m\u001b[43m \u001b[49m\u001b[38;5;28;43minput\u001b[39;49m\u001b[43m,\u001b[49m\u001b[43m \u001b[49m\u001b[43mconfig\u001b[49m\u001b[43m)\u001b[49m\n\u001b[0;32m   3025\u001b[0m \u001b[38;5;66;03m# finish the root run\u001b[39;00m\n\u001b[0;32m   3026\u001b[0m \u001b[38;5;28;01mexcept\u001b[39;00m \u001b[38;5;167;01mBaseException\u001b[39;00m \u001b[38;5;28;01mas\u001b[39;00m e:\n",
      "File \u001b[1;32md:\\web development\\chatbot\\venv\\Lib\\site-packages\\langchain_core\\runnables\\passthrough.py:494\u001b[0m, in \u001b[0;36mRunnableAssign.invoke\u001b[1;34m(self, input, config, **kwargs)\u001b[0m\n\u001b[0;32m    488\u001b[0m \u001b[38;5;28;01mdef\u001b[39;00m\u001b[38;5;250m \u001b[39m\u001b[38;5;21minvoke\u001b[39m(\n\u001b[0;32m    489\u001b[0m     \u001b[38;5;28mself\u001b[39m,\n\u001b[0;32m    490\u001b[0m     \u001b[38;5;28minput\u001b[39m: \u001b[38;5;28mdict\u001b[39m[\u001b[38;5;28mstr\u001b[39m, Any],\n\u001b[0;32m    491\u001b[0m     config: Optional[RunnableConfig] \u001b[38;5;241m=\u001b[39m \u001b[38;5;28;01mNone\u001b[39;00m,\n\u001b[0;32m    492\u001b[0m     \u001b[38;5;241m*\u001b[39m\u001b[38;5;241m*\u001b[39mkwargs: Any,\n\u001b[0;32m    493\u001b[0m ) \u001b[38;5;241m-\u001b[39m\u001b[38;5;241m>\u001b[39m \u001b[38;5;28mdict\u001b[39m[\u001b[38;5;28mstr\u001b[39m, Any]:\n\u001b[1;32m--> 494\u001b[0m     \u001b[38;5;28;01mreturn\u001b[39;00m \u001b[38;5;28;43mself\u001b[39;49m\u001b[38;5;241;43m.\u001b[39;49m\u001b[43m_call_with_config\u001b[49m\u001b[43m(\u001b[49m\u001b[38;5;28;43mself\u001b[39;49m\u001b[38;5;241;43m.\u001b[39;49m\u001b[43m_invoke\u001b[49m\u001b[43m,\u001b[49m\u001b[43m \u001b[49m\u001b[38;5;28;43minput\u001b[39;49m\u001b[43m,\u001b[49m\u001b[43m \u001b[49m\u001b[43mconfig\u001b[49m\u001b[43m,\u001b[49m\u001b[43m \u001b[49m\u001b[38;5;241;43m*\u001b[39;49m\u001b[38;5;241;43m*\u001b[39;49m\u001b[43mkwargs\u001b[49m\u001b[43m)\u001b[49m\n",
      "File \u001b[1;32md:\\web development\\chatbot\\venv\\Lib\\site-packages\\langchain_core\\runnables\\base.py:1922\u001b[0m, in \u001b[0;36mRunnable._call_with_config\u001b[1;34m(self, func, input, config, run_type, serialized, **kwargs)\u001b[0m\n\u001b[0;32m   1918\u001b[0m     context \u001b[38;5;241m=\u001b[39m copy_context()\n\u001b[0;32m   1919\u001b[0m     context\u001b[38;5;241m.\u001b[39mrun(_set_config_context, child_config)\n\u001b[0;32m   1920\u001b[0m     output \u001b[38;5;241m=\u001b[39m cast(\n\u001b[0;32m   1921\u001b[0m         Output,\n\u001b[1;32m-> 1922\u001b[0m         \u001b[43mcontext\u001b[49m\u001b[38;5;241;43m.\u001b[39;49m\u001b[43mrun\u001b[49m\u001b[43m(\u001b[49m\n\u001b[0;32m   1923\u001b[0m \u001b[43m            \u001b[49m\u001b[43mcall_func_with_variable_args\u001b[49m\u001b[43m,\u001b[49m\u001b[43m  \u001b[49m\u001b[38;5;66;43;03m# type: ignore[arg-type]\u001b[39;49;00m\n\u001b[0;32m   1924\u001b[0m \u001b[43m            \u001b[49m\u001b[43mfunc\u001b[49m\u001b[43m,\u001b[49m\u001b[43m  \u001b[49m\u001b[38;5;66;43;03m# type: ignore[arg-type]\u001b[39;49;00m\n\u001b[0;32m   1925\u001b[0m \u001b[43m            \u001b[49m\u001b[38;5;28;43minput\u001b[39;49m\u001b[43m,\u001b[49m\u001b[43m  \u001b[49m\u001b[38;5;66;43;03m# type: ignore[arg-type]\u001b[39;49;00m\n\u001b[0;32m   1926\u001b[0m \u001b[43m            \u001b[49m\u001b[43mconfig\u001b[49m\u001b[43m,\u001b[49m\n\u001b[0;32m   1927\u001b[0m \u001b[43m            \u001b[49m\u001b[43mrun_manager\u001b[49m\u001b[43m,\u001b[49m\n\u001b[0;32m   1928\u001b[0m \u001b[43m            \u001b[49m\u001b[38;5;241;43m*\u001b[39;49m\u001b[38;5;241;43m*\u001b[39;49m\u001b[43mkwargs\u001b[49m\u001b[43m,\u001b[49m\n\u001b[0;32m   1929\u001b[0m \u001b[43m        \u001b[49m\u001b[43m)\u001b[49m,\n\u001b[0;32m   1930\u001b[0m     )\n\u001b[0;32m   1931\u001b[0m \u001b[38;5;28;01mexcept\u001b[39;00m \u001b[38;5;167;01mBaseException\u001b[39;00m \u001b[38;5;28;01mas\u001b[39;00m e:\n\u001b[0;32m   1932\u001b[0m     run_manager\u001b[38;5;241m.\u001b[39mon_chain_error(e)\n",
      "File \u001b[1;32md:\\web development\\chatbot\\venv\\Lib\\site-packages\\langchain_core\\runnables\\config.py:396\u001b[0m, in \u001b[0;36mcall_func_with_variable_args\u001b[1;34m(func, input, config, run_manager, **kwargs)\u001b[0m\n\u001b[0;32m    394\u001b[0m \u001b[38;5;28;01mif\u001b[39;00m run_manager \u001b[38;5;129;01mis\u001b[39;00m \u001b[38;5;129;01mnot\u001b[39;00m \u001b[38;5;28;01mNone\u001b[39;00m \u001b[38;5;129;01mand\u001b[39;00m accepts_run_manager(func):\n\u001b[0;32m    395\u001b[0m     kwargs[\u001b[38;5;124m\"\u001b[39m\u001b[38;5;124mrun_manager\u001b[39m\u001b[38;5;124m\"\u001b[39m] \u001b[38;5;241m=\u001b[39m run_manager\n\u001b[1;32m--> 396\u001b[0m \u001b[38;5;28;01mreturn\u001b[39;00m \u001b[43mfunc\u001b[49m\u001b[43m(\u001b[49m\u001b[38;5;28;43minput\u001b[39;49m\u001b[43m,\u001b[49m\u001b[43m \u001b[49m\u001b[38;5;241;43m*\u001b[39;49m\u001b[38;5;241;43m*\u001b[39;49m\u001b[43mkwargs\u001b[49m\u001b[43m)\u001b[49m\n",
      "File \u001b[1;32md:\\web development\\chatbot\\venv\\Lib\\site-packages\\langchain_core\\runnables\\passthrough.py:481\u001b[0m, in \u001b[0;36mRunnableAssign._invoke\u001b[1;34m(self, input, run_manager, config, **kwargs)\u001b[0m\n\u001b[0;32m    476\u001b[0m     msg \u001b[38;5;241m=\u001b[39m \u001b[38;5;124m\"\u001b[39m\u001b[38;5;124mThe input to RunnablePassthrough.assign() must be a dict.\u001b[39m\u001b[38;5;124m\"\u001b[39m\n\u001b[0;32m    477\u001b[0m     \u001b[38;5;28;01mraise\u001b[39;00m \u001b[38;5;167;01mValueError\u001b[39;00m(msg)  \u001b[38;5;66;03m# noqa: TRY004\u001b[39;00m\n\u001b[0;32m    479\u001b[0m \u001b[38;5;28;01mreturn\u001b[39;00m {\n\u001b[0;32m    480\u001b[0m     \u001b[38;5;241m*\u001b[39m\u001b[38;5;241m*\u001b[39m\u001b[38;5;28minput\u001b[39m,\n\u001b[1;32m--> 481\u001b[0m     \u001b[38;5;241m*\u001b[39m\u001b[38;5;241m*\u001b[39m\u001b[38;5;28;43mself\u001b[39;49m\u001b[38;5;241;43m.\u001b[39;49m\u001b[43mmapper\u001b[49m\u001b[38;5;241;43m.\u001b[39;49m\u001b[43minvoke\u001b[49m\u001b[43m(\u001b[49m\n\u001b[0;32m    482\u001b[0m \u001b[43m        \u001b[49m\u001b[38;5;28;43minput\u001b[39;49m\u001b[43m,\u001b[49m\n\u001b[0;32m    483\u001b[0m \u001b[43m        \u001b[49m\u001b[43mpatch_config\u001b[49m\u001b[43m(\u001b[49m\u001b[43mconfig\u001b[49m\u001b[43m,\u001b[49m\u001b[43m \u001b[49m\u001b[43mcallbacks\u001b[49m\u001b[38;5;241;43m=\u001b[39;49m\u001b[43mrun_manager\u001b[49m\u001b[38;5;241;43m.\u001b[39;49m\u001b[43mget_child\u001b[49m\u001b[43m(\u001b[49m\u001b[43m)\u001b[49m\u001b[43m)\u001b[49m\u001b[43m,\u001b[49m\n\u001b[0;32m    484\u001b[0m \u001b[43m        \u001b[49m\u001b[38;5;241;43m*\u001b[39;49m\u001b[38;5;241;43m*\u001b[39;49m\u001b[43mkwargs\u001b[49m\u001b[43m,\u001b[49m\n\u001b[0;32m    485\u001b[0m \u001b[43m    \u001b[49m\u001b[43m)\u001b[49m,\n\u001b[0;32m    486\u001b[0m }\n",
      "File \u001b[1;32md:\\web development\\chatbot\\venv\\Lib\\site-packages\\langchain_core\\runnables\\base.py:3729\u001b[0m, in \u001b[0;36mRunnableParallel.invoke\u001b[1;34m(self, input, config, **kwargs)\u001b[0m\n\u001b[0;32m   3724\u001b[0m     \u001b[38;5;28;01mwith\u001b[39;00m get_executor_for_config(config) \u001b[38;5;28;01mas\u001b[39;00m executor:\n\u001b[0;32m   3725\u001b[0m         futures \u001b[38;5;241m=\u001b[39m [\n\u001b[0;32m   3726\u001b[0m             executor\u001b[38;5;241m.\u001b[39msubmit(_invoke_step, step, \u001b[38;5;28minput\u001b[39m, config, key)\n\u001b[0;32m   3727\u001b[0m             \u001b[38;5;28;01mfor\u001b[39;00m key, step \u001b[38;5;129;01min\u001b[39;00m steps\u001b[38;5;241m.\u001b[39mitems()\n\u001b[0;32m   3728\u001b[0m         ]\n\u001b[1;32m-> 3729\u001b[0m         output \u001b[38;5;241m=\u001b[39m {key: \u001b[43mfuture\u001b[49m\u001b[38;5;241;43m.\u001b[39;49m\u001b[43mresult\u001b[49m\u001b[43m(\u001b[49m\u001b[43m)\u001b[49m \u001b[38;5;28;01mfor\u001b[39;00m key, future \u001b[38;5;129;01min\u001b[39;00m \u001b[38;5;28mzip\u001b[39m(steps, futures)}\n\u001b[0;32m   3730\u001b[0m \u001b[38;5;66;03m# finish the root run\u001b[39;00m\n\u001b[0;32m   3731\u001b[0m \u001b[38;5;28;01mexcept\u001b[39;00m \u001b[38;5;167;01mBaseException\u001b[39;00m \u001b[38;5;28;01mas\u001b[39;00m e:\n",
      "File \u001b[1;32m~\\AppData\\Local\\Programs\\Python\\Python312\\Lib\\concurrent\\futures\\_base.py:456\u001b[0m, in \u001b[0;36mFuture.result\u001b[1;34m(self, timeout)\u001b[0m\n\u001b[0;32m    454\u001b[0m     \u001b[38;5;28;01mraise\u001b[39;00m CancelledError()\n\u001b[0;32m    455\u001b[0m \u001b[38;5;28;01melif\u001b[39;00m \u001b[38;5;28mself\u001b[39m\u001b[38;5;241m.\u001b[39m_state \u001b[38;5;241m==\u001b[39m FINISHED:\n\u001b[1;32m--> 456\u001b[0m     \u001b[38;5;28;01mreturn\u001b[39;00m \u001b[38;5;28;43mself\u001b[39;49m\u001b[38;5;241;43m.\u001b[39;49m\u001b[43m__get_result\u001b[49m\u001b[43m(\u001b[49m\u001b[43m)\u001b[49m\n\u001b[0;32m    457\u001b[0m \u001b[38;5;28;01melse\u001b[39;00m:\n\u001b[0;32m    458\u001b[0m     \u001b[38;5;28;01mraise\u001b[39;00m \u001b[38;5;167;01mTimeoutError\u001b[39;00m()\n",
      "File \u001b[1;32m~\\AppData\\Local\\Programs\\Python\\Python312\\Lib\\concurrent\\futures\\_base.py:401\u001b[0m, in \u001b[0;36mFuture.__get_result\u001b[1;34m(self)\u001b[0m\n\u001b[0;32m    399\u001b[0m \u001b[38;5;28;01mif\u001b[39;00m \u001b[38;5;28mself\u001b[39m\u001b[38;5;241m.\u001b[39m_exception:\n\u001b[0;32m    400\u001b[0m     \u001b[38;5;28;01mtry\u001b[39;00m:\n\u001b[1;32m--> 401\u001b[0m         \u001b[38;5;28;01mraise\u001b[39;00m \u001b[38;5;28mself\u001b[39m\u001b[38;5;241m.\u001b[39m_exception\n\u001b[0;32m    402\u001b[0m     \u001b[38;5;28;01mfinally\u001b[39;00m:\n\u001b[0;32m    403\u001b[0m         \u001b[38;5;66;03m# Break a reference cycle with the exception in self._exception\u001b[39;00m\n\u001b[0;32m    404\u001b[0m         \u001b[38;5;28mself\u001b[39m \u001b[38;5;241m=\u001b[39m \u001b[38;5;28;01mNone\u001b[39;00m\n",
      "File \u001b[1;32m~\\AppData\\Local\\Programs\\Python\\Python312\\Lib\\concurrent\\futures\\thread.py:58\u001b[0m, in \u001b[0;36m_WorkItem.run\u001b[1;34m(self)\u001b[0m\n\u001b[0;32m     55\u001b[0m     \u001b[38;5;28;01mreturn\u001b[39;00m\n\u001b[0;32m     57\u001b[0m \u001b[38;5;28;01mtry\u001b[39;00m:\n\u001b[1;32m---> 58\u001b[0m     result \u001b[38;5;241m=\u001b[39m \u001b[38;5;28;43mself\u001b[39;49m\u001b[38;5;241;43m.\u001b[39;49m\u001b[43mfn\u001b[49m\u001b[43m(\u001b[49m\u001b[38;5;241;43m*\u001b[39;49m\u001b[38;5;28;43mself\u001b[39;49m\u001b[38;5;241;43m.\u001b[39;49m\u001b[43margs\u001b[49m\u001b[43m,\u001b[49m\u001b[43m \u001b[49m\u001b[38;5;241;43m*\u001b[39;49m\u001b[38;5;241;43m*\u001b[39;49m\u001b[38;5;28;43mself\u001b[39;49m\u001b[38;5;241;43m.\u001b[39;49m\u001b[43mkwargs\u001b[49m\u001b[43m)\u001b[49m\n\u001b[0;32m     59\u001b[0m \u001b[38;5;28;01mexcept\u001b[39;00m \u001b[38;5;167;01mBaseException\u001b[39;00m \u001b[38;5;28;01mas\u001b[39;00m exc:\n\u001b[0;32m     60\u001b[0m     \u001b[38;5;28mself\u001b[39m\u001b[38;5;241m.\u001b[39mfuture\u001b[38;5;241m.\u001b[39mset_exception(exc)\n",
      "File \u001b[1;32md:\\web development\\chatbot\\venv\\Lib\\site-packages\\langchain_core\\runnables\\base.py:3713\u001b[0m, in \u001b[0;36mRunnableParallel.invoke.<locals>._invoke_step\u001b[1;34m(step, input, config, key)\u001b[0m\n\u001b[0;32m   3711\u001b[0m context \u001b[38;5;241m=\u001b[39m copy_context()\n\u001b[0;32m   3712\u001b[0m context\u001b[38;5;241m.\u001b[39mrun(_set_config_context, child_config)\n\u001b[1;32m-> 3713\u001b[0m \u001b[38;5;28;01mreturn\u001b[39;00m \u001b[43mcontext\u001b[49m\u001b[38;5;241;43m.\u001b[39;49m\u001b[43mrun\u001b[49m\u001b[43m(\u001b[49m\n\u001b[0;32m   3714\u001b[0m \u001b[43m    \u001b[49m\u001b[43mstep\u001b[49m\u001b[38;5;241;43m.\u001b[39;49m\u001b[43minvoke\u001b[49m\u001b[43m,\u001b[49m\n\u001b[0;32m   3715\u001b[0m \u001b[43m    \u001b[49m\u001b[38;5;28;43minput\u001b[39;49m\u001b[43m,\u001b[49m\n\u001b[0;32m   3716\u001b[0m \u001b[43m    \u001b[49m\u001b[43mchild_config\u001b[49m\u001b[43m,\u001b[49m\n\u001b[0;32m   3717\u001b[0m \u001b[43m\u001b[49m\u001b[43m)\u001b[49m\n",
      "File \u001b[1;32md:\\web development\\chatbot\\venv\\Lib\\site-packages\\langchain_core\\runnables\\base.py:5360\u001b[0m, in \u001b[0;36mRunnableBindingBase.invoke\u001b[1;34m(self, input, config, **kwargs)\u001b[0m\n\u001b[0;32m   5354\u001b[0m \u001b[38;5;28;01mdef\u001b[39;00m\u001b[38;5;250m \u001b[39m\u001b[38;5;21minvoke\u001b[39m(\n\u001b[0;32m   5355\u001b[0m     \u001b[38;5;28mself\u001b[39m,\n\u001b[0;32m   5356\u001b[0m     \u001b[38;5;28minput\u001b[39m: Input,\n\u001b[0;32m   5357\u001b[0m     config: Optional[RunnableConfig] \u001b[38;5;241m=\u001b[39m \u001b[38;5;28;01mNone\u001b[39;00m,\n\u001b[0;32m   5358\u001b[0m     \u001b[38;5;241m*\u001b[39m\u001b[38;5;241m*\u001b[39mkwargs: Optional[Any],\n\u001b[0;32m   5359\u001b[0m ) \u001b[38;5;241m-\u001b[39m\u001b[38;5;241m>\u001b[39m Output:\n\u001b[1;32m-> 5360\u001b[0m     \u001b[38;5;28;01mreturn\u001b[39;00m \u001b[38;5;28;43mself\u001b[39;49m\u001b[38;5;241;43m.\u001b[39;49m\u001b[43mbound\u001b[49m\u001b[38;5;241;43m.\u001b[39;49m\u001b[43minvoke\u001b[49m\u001b[43m(\u001b[49m\n\u001b[0;32m   5361\u001b[0m \u001b[43m        \u001b[49m\u001b[38;5;28;43minput\u001b[39;49m\u001b[43m,\u001b[49m\n\u001b[0;32m   5362\u001b[0m \u001b[43m        \u001b[49m\u001b[38;5;28;43mself\u001b[39;49m\u001b[38;5;241;43m.\u001b[39;49m\u001b[43m_merge_configs\u001b[49m\u001b[43m(\u001b[49m\u001b[43mconfig\u001b[49m\u001b[43m)\u001b[49m\u001b[43m,\u001b[49m\n\u001b[0;32m   5363\u001b[0m \u001b[43m        \u001b[49m\u001b[38;5;241;43m*\u001b[39;49m\u001b[38;5;241;43m*\u001b[39;49m\u001b[43m{\u001b[49m\u001b[38;5;241;43m*\u001b[39;49m\u001b[38;5;241;43m*\u001b[39;49m\u001b[38;5;28;43mself\u001b[39;49m\u001b[38;5;241;43m.\u001b[39;49m\u001b[43mkwargs\u001b[49m\u001b[43m,\u001b[49m\u001b[43m \u001b[49m\u001b[38;5;241;43m*\u001b[39;49m\u001b[38;5;241;43m*\u001b[39;49m\u001b[43mkwargs\u001b[49m\u001b[43m}\u001b[49m\u001b[43m,\u001b[49m\n\u001b[0;32m   5364\u001b[0m \u001b[43m    \u001b[49m\u001b[43m)\u001b[49m\n",
      "File \u001b[1;32md:\\web development\\chatbot\\venv\\Lib\\site-packages\\langchain_core\\runnables\\base.py:3024\u001b[0m, in \u001b[0;36mRunnableSequence.invoke\u001b[1;34m(self, input, config, **kwargs)\u001b[0m\n\u001b[0;32m   3022\u001b[0m             \u001b[38;5;28minput\u001b[39m \u001b[38;5;241m=\u001b[39m context\u001b[38;5;241m.\u001b[39mrun(step\u001b[38;5;241m.\u001b[39minvoke, \u001b[38;5;28minput\u001b[39m, config, \u001b[38;5;241m*\u001b[39m\u001b[38;5;241m*\u001b[39mkwargs)\n\u001b[0;32m   3023\u001b[0m         \u001b[38;5;28;01melse\u001b[39;00m:\n\u001b[1;32m-> 3024\u001b[0m             \u001b[38;5;28minput\u001b[39m \u001b[38;5;241m=\u001b[39m \u001b[43mcontext\u001b[49m\u001b[38;5;241;43m.\u001b[39;49m\u001b[43mrun\u001b[49m\u001b[43m(\u001b[49m\u001b[43mstep\u001b[49m\u001b[38;5;241;43m.\u001b[39;49m\u001b[43minvoke\u001b[49m\u001b[43m,\u001b[49m\u001b[43m \u001b[49m\u001b[38;5;28;43minput\u001b[39;49m\u001b[43m,\u001b[49m\u001b[43m \u001b[49m\u001b[43mconfig\u001b[49m\u001b[43m)\u001b[49m\n\u001b[0;32m   3025\u001b[0m \u001b[38;5;66;03m# finish the root run\u001b[39;00m\n\u001b[0;32m   3026\u001b[0m \u001b[38;5;28;01mexcept\u001b[39;00m \u001b[38;5;167;01mBaseException\u001b[39;00m \u001b[38;5;28;01mas\u001b[39;00m e:\n",
      "File \u001b[1;32md:\\web development\\chatbot\\venv\\Lib\\site-packages\\langchain_core\\runnables\\base.py:5360\u001b[0m, in \u001b[0;36mRunnableBindingBase.invoke\u001b[1;34m(self, input, config, **kwargs)\u001b[0m\n\u001b[0;32m   5354\u001b[0m \u001b[38;5;28;01mdef\u001b[39;00m\u001b[38;5;250m \u001b[39m\u001b[38;5;21minvoke\u001b[39m(\n\u001b[0;32m   5355\u001b[0m     \u001b[38;5;28mself\u001b[39m,\n\u001b[0;32m   5356\u001b[0m     \u001b[38;5;28minput\u001b[39m: Input,\n\u001b[0;32m   5357\u001b[0m     config: Optional[RunnableConfig] \u001b[38;5;241m=\u001b[39m \u001b[38;5;28;01mNone\u001b[39;00m,\n\u001b[0;32m   5358\u001b[0m     \u001b[38;5;241m*\u001b[39m\u001b[38;5;241m*\u001b[39mkwargs: Optional[Any],\n\u001b[0;32m   5359\u001b[0m ) \u001b[38;5;241m-\u001b[39m\u001b[38;5;241m>\u001b[39m Output:\n\u001b[1;32m-> 5360\u001b[0m     \u001b[38;5;28;01mreturn\u001b[39;00m \u001b[38;5;28;43mself\u001b[39;49m\u001b[38;5;241;43m.\u001b[39;49m\u001b[43mbound\u001b[49m\u001b[38;5;241;43m.\u001b[39;49m\u001b[43minvoke\u001b[49m\u001b[43m(\u001b[49m\n\u001b[0;32m   5361\u001b[0m \u001b[43m        \u001b[49m\u001b[38;5;28;43minput\u001b[39;49m\u001b[43m,\u001b[49m\n\u001b[0;32m   5362\u001b[0m \u001b[43m        \u001b[49m\u001b[38;5;28;43mself\u001b[39;49m\u001b[38;5;241;43m.\u001b[39;49m\u001b[43m_merge_configs\u001b[49m\u001b[43m(\u001b[49m\u001b[43mconfig\u001b[49m\u001b[43m)\u001b[49m\u001b[43m,\u001b[49m\n\u001b[0;32m   5363\u001b[0m \u001b[43m        \u001b[49m\u001b[38;5;241;43m*\u001b[39;49m\u001b[38;5;241;43m*\u001b[39;49m\u001b[43m{\u001b[49m\u001b[38;5;241;43m*\u001b[39;49m\u001b[38;5;241;43m*\u001b[39;49m\u001b[38;5;28;43mself\u001b[39;49m\u001b[38;5;241;43m.\u001b[39;49m\u001b[43mkwargs\u001b[49m\u001b[43m,\u001b[49m\u001b[43m \u001b[49m\u001b[38;5;241;43m*\u001b[39;49m\u001b[38;5;241;43m*\u001b[39;49m\u001b[43mkwargs\u001b[49m\u001b[43m}\u001b[49m\u001b[43m,\u001b[49m\n\u001b[0;32m   5364\u001b[0m \u001b[43m    \u001b[49m\u001b[43m)\u001b[49m\n",
      "File \u001b[1;32md:\\web development\\chatbot\\venv\\Lib\\site-packages\\langchain_core\\language_models\\chat_models.py:284\u001b[0m, in \u001b[0;36mBaseChatModel.invoke\u001b[1;34m(self, input, config, stop, **kwargs)\u001b[0m\n\u001b[0;32m    273\u001b[0m \u001b[38;5;28;01mdef\u001b[39;00m\u001b[38;5;250m \u001b[39m\u001b[38;5;21minvoke\u001b[39m(\n\u001b[0;32m    274\u001b[0m     \u001b[38;5;28mself\u001b[39m,\n\u001b[0;32m    275\u001b[0m     \u001b[38;5;28minput\u001b[39m: LanguageModelInput,\n\u001b[1;32m   (...)\u001b[0m\n\u001b[0;32m    279\u001b[0m     \u001b[38;5;241m*\u001b[39m\u001b[38;5;241m*\u001b[39mkwargs: Any,\n\u001b[0;32m    280\u001b[0m ) \u001b[38;5;241m-\u001b[39m\u001b[38;5;241m>\u001b[39m BaseMessage:\n\u001b[0;32m    281\u001b[0m     config \u001b[38;5;241m=\u001b[39m ensure_config(config)\n\u001b[0;32m    282\u001b[0m     \u001b[38;5;28;01mreturn\u001b[39;00m cast(\n\u001b[0;32m    283\u001b[0m         ChatGeneration,\n\u001b[1;32m--> 284\u001b[0m         \u001b[38;5;28;43mself\u001b[39;49m\u001b[38;5;241;43m.\u001b[39;49m\u001b[43mgenerate_prompt\u001b[49m\u001b[43m(\u001b[49m\n\u001b[0;32m    285\u001b[0m \u001b[43m            \u001b[49m\u001b[43m[\u001b[49m\u001b[38;5;28;43mself\u001b[39;49m\u001b[38;5;241;43m.\u001b[39;49m\u001b[43m_convert_input\u001b[49m\u001b[43m(\u001b[49m\u001b[38;5;28;43minput\u001b[39;49m\u001b[43m)\u001b[49m\u001b[43m]\u001b[49m\u001b[43m,\u001b[49m\n\u001b[0;32m    286\u001b[0m \u001b[43m            \u001b[49m\u001b[43mstop\u001b[49m\u001b[38;5;241;43m=\u001b[39;49m\u001b[43mstop\u001b[49m\u001b[43m,\u001b[49m\n\u001b[0;32m    287\u001b[0m \u001b[43m            \u001b[49m\u001b[43mcallbacks\u001b[49m\u001b[38;5;241;43m=\u001b[39;49m\u001b[43mconfig\u001b[49m\u001b[38;5;241;43m.\u001b[39;49m\u001b[43mget\u001b[49m\u001b[43m(\u001b[49m\u001b[38;5;124;43m\"\u001b[39;49m\u001b[38;5;124;43mcallbacks\u001b[39;49m\u001b[38;5;124;43m\"\u001b[39;49m\u001b[43m)\u001b[49m\u001b[43m,\u001b[49m\n\u001b[0;32m    288\u001b[0m \u001b[43m            \u001b[49m\u001b[43mtags\u001b[49m\u001b[38;5;241;43m=\u001b[39;49m\u001b[43mconfig\u001b[49m\u001b[38;5;241;43m.\u001b[39;49m\u001b[43mget\u001b[49m\u001b[43m(\u001b[49m\u001b[38;5;124;43m\"\u001b[39;49m\u001b[38;5;124;43mtags\u001b[39;49m\u001b[38;5;124;43m\"\u001b[39;49m\u001b[43m)\u001b[49m\u001b[43m,\u001b[49m\n\u001b[0;32m    289\u001b[0m \u001b[43m            \u001b[49m\u001b[43mmetadata\u001b[49m\u001b[38;5;241;43m=\u001b[39;49m\u001b[43mconfig\u001b[49m\u001b[38;5;241;43m.\u001b[39;49m\u001b[43mget\u001b[49m\u001b[43m(\u001b[49m\u001b[38;5;124;43m\"\u001b[39;49m\u001b[38;5;124;43mmetadata\u001b[39;49m\u001b[38;5;124;43m\"\u001b[39;49m\u001b[43m)\u001b[49m\u001b[43m,\u001b[49m\n\u001b[0;32m    290\u001b[0m \u001b[43m            \u001b[49m\u001b[43mrun_name\u001b[49m\u001b[38;5;241;43m=\u001b[39;49m\u001b[43mconfig\u001b[49m\u001b[38;5;241;43m.\u001b[39;49m\u001b[43mget\u001b[49m\u001b[43m(\u001b[49m\u001b[38;5;124;43m\"\u001b[39;49m\u001b[38;5;124;43mrun_name\u001b[39;49m\u001b[38;5;124;43m\"\u001b[39;49m\u001b[43m)\u001b[49m\u001b[43m,\u001b[49m\n\u001b[0;32m    291\u001b[0m \u001b[43m            \u001b[49m\u001b[43mrun_id\u001b[49m\u001b[38;5;241;43m=\u001b[39;49m\u001b[43mconfig\u001b[49m\u001b[38;5;241;43m.\u001b[39;49m\u001b[43mpop\u001b[49m\u001b[43m(\u001b[49m\u001b[38;5;124;43m\"\u001b[39;49m\u001b[38;5;124;43mrun_id\u001b[39;49m\u001b[38;5;124;43m\"\u001b[39;49m\u001b[43m,\u001b[49m\u001b[43m \u001b[49m\u001b[38;5;28;43;01mNone\u001b[39;49;00m\u001b[43m)\u001b[49m\u001b[43m,\u001b[49m\n\u001b[0;32m    292\u001b[0m \u001b[43m            \u001b[49m\u001b[38;5;241;43m*\u001b[39;49m\u001b[38;5;241;43m*\u001b[39;49m\u001b[43mkwargs\u001b[49m\u001b[43m,\u001b[49m\n\u001b[0;32m    293\u001b[0m \u001b[43m        \u001b[49m\u001b[43m)\u001b[49m\u001b[38;5;241m.\u001b[39mgenerations[\u001b[38;5;241m0\u001b[39m][\u001b[38;5;241m0\u001b[39m],\n\u001b[0;32m    294\u001b[0m     )\u001b[38;5;241m.\u001b[39mmessage\n",
      "File \u001b[1;32md:\\web development\\chatbot\\venv\\Lib\\site-packages\\langchain_core\\language_models\\chat_models.py:860\u001b[0m, in \u001b[0;36mBaseChatModel.generate_prompt\u001b[1;34m(self, prompts, stop, callbacks, **kwargs)\u001b[0m\n\u001b[0;32m    852\u001b[0m \u001b[38;5;28;01mdef\u001b[39;00m\u001b[38;5;250m \u001b[39m\u001b[38;5;21mgenerate_prompt\u001b[39m(\n\u001b[0;32m    853\u001b[0m     \u001b[38;5;28mself\u001b[39m,\n\u001b[0;32m    854\u001b[0m     prompts: \u001b[38;5;28mlist\u001b[39m[PromptValue],\n\u001b[1;32m   (...)\u001b[0m\n\u001b[0;32m    857\u001b[0m     \u001b[38;5;241m*\u001b[39m\u001b[38;5;241m*\u001b[39mkwargs: Any,\n\u001b[0;32m    858\u001b[0m ) \u001b[38;5;241m-\u001b[39m\u001b[38;5;241m>\u001b[39m LLMResult:\n\u001b[0;32m    859\u001b[0m     prompt_messages \u001b[38;5;241m=\u001b[39m [p\u001b[38;5;241m.\u001b[39mto_messages() \u001b[38;5;28;01mfor\u001b[39;00m p \u001b[38;5;129;01min\u001b[39;00m prompts]\n\u001b[1;32m--> 860\u001b[0m     \u001b[38;5;28;01mreturn\u001b[39;00m \u001b[38;5;28;43mself\u001b[39;49m\u001b[38;5;241;43m.\u001b[39;49m\u001b[43mgenerate\u001b[49m\u001b[43m(\u001b[49m\u001b[43mprompt_messages\u001b[49m\u001b[43m,\u001b[49m\u001b[43m \u001b[49m\u001b[43mstop\u001b[49m\u001b[38;5;241;43m=\u001b[39;49m\u001b[43mstop\u001b[49m\u001b[43m,\u001b[49m\u001b[43m \u001b[49m\u001b[43mcallbacks\u001b[49m\u001b[38;5;241;43m=\u001b[39;49m\u001b[43mcallbacks\u001b[49m\u001b[43m,\u001b[49m\u001b[43m \u001b[49m\u001b[38;5;241;43m*\u001b[39;49m\u001b[38;5;241;43m*\u001b[39;49m\u001b[43mkwargs\u001b[49m\u001b[43m)\u001b[49m\n",
      "File \u001b[1;32md:\\web development\\chatbot\\venv\\Lib\\site-packages\\langchain_core\\language_models\\chat_models.py:690\u001b[0m, in \u001b[0;36mBaseChatModel.generate\u001b[1;34m(self, messages, stop, callbacks, tags, metadata, run_name, run_id, **kwargs)\u001b[0m\n\u001b[0;32m    687\u001b[0m \u001b[38;5;28;01mfor\u001b[39;00m i, m \u001b[38;5;129;01min\u001b[39;00m \u001b[38;5;28menumerate\u001b[39m(messages):\n\u001b[0;32m    688\u001b[0m     \u001b[38;5;28;01mtry\u001b[39;00m:\n\u001b[0;32m    689\u001b[0m         results\u001b[38;5;241m.\u001b[39mappend(\n\u001b[1;32m--> 690\u001b[0m             \u001b[38;5;28;43mself\u001b[39;49m\u001b[38;5;241;43m.\u001b[39;49m\u001b[43m_generate_with_cache\u001b[49m\u001b[43m(\u001b[49m\n\u001b[0;32m    691\u001b[0m \u001b[43m                \u001b[49m\u001b[43mm\u001b[49m\u001b[43m,\u001b[49m\n\u001b[0;32m    692\u001b[0m \u001b[43m                \u001b[49m\u001b[43mstop\u001b[49m\u001b[38;5;241;43m=\u001b[39;49m\u001b[43mstop\u001b[49m\u001b[43m,\u001b[49m\n\u001b[0;32m    693\u001b[0m \u001b[43m                \u001b[49m\u001b[43mrun_manager\u001b[49m\u001b[38;5;241;43m=\u001b[39;49m\u001b[43mrun_managers\u001b[49m\u001b[43m[\u001b[49m\u001b[43mi\u001b[49m\u001b[43m]\u001b[49m\u001b[43m \u001b[49m\u001b[38;5;28;43;01mif\u001b[39;49;00m\u001b[43m \u001b[49m\u001b[43mrun_managers\u001b[49m\u001b[43m \u001b[49m\u001b[38;5;28;43;01melse\u001b[39;49;00m\u001b[43m \u001b[49m\u001b[38;5;28;43;01mNone\u001b[39;49;00m\u001b[43m,\u001b[49m\n\u001b[0;32m    694\u001b[0m \u001b[43m                \u001b[49m\u001b[38;5;241;43m*\u001b[39;49m\u001b[38;5;241;43m*\u001b[39;49m\u001b[43mkwargs\u001b[49m\u001b[43m,\u001b[49m\n\u001b[0;32m    695\u001b[0m \u001b[43m            \u001b[49m\u001b[43m)\u001b[49m\n\u001b[0;32m    696\u001b[0m         )\n\u001b[0;32m    697\u001b[0m     \u001b[38;5;28;01mexcept\u001b[39;00m \u001b[38;5;167;01mBaseException\u001b[39;00m \u001b[38;5;28;01mas\u001b[39;00m e:\n\u001b[0;32m    698\u001b[0m         \u001b[38;5;28;01mif\u001b[39;00m run_managers:\n",
      "File \u001b[1;32md:\\web development\\chatbot\\venv\\Lib\\site-packages\\langchain_core\\language_models\\chat_models.py:925\u001b[0m, in \u001b[0;36mBaseChatModel._generate_with_cache\u001b[1;34m(self, messages, stop, run_manager, **kwargs)\u001b[0m\n\u001b[0;32m    923\u001b[0m \u001b[38;5;28;01melse\u001b[39;00m:\n\u001b[0;32m    924\u001b[0m     \u001b[38;5;28;01mif\u001b[39;00m inspect\u001b[38;5;241m.\u001b[39msignature(\u001b[38;5;28mself\u001b[39m\u001b[38;5;241m.\u001b[39m_generate)\u001b[38;5;241m.\u001b[39mparameters\u001b[38;5;241m.\u001b[39mget(\u001b[38;5;124m\"\u001b[39m\u001b[38;5;124mrun_manager\u001b[39m\u001b[38;5;124m\"\u001b[39m):\n\u001b[1;32m--> 925\u001b[0m         result \u001b[38;5;241m=\u001b[39m \u001b[38;5;28;43mself\u001b[39;49m\u001b[38;5;241;43m.\u001b[39;49m\u001b[43m_generate\u001b[49m\u001b[43m(\u001b[49m\n\u001b[0;32m    926\u001b[0m \u001b[43m            \u001b[49m\u001b[43mmessages\u001b[49m\u001b[43m,\u001b[49m\u001b[43m \u001b[49m\u001b[43mstop\u001b[49m\u001b[38;5;241;43m=\u001b[39;49m\u001b[43mstop\u001b[49m\u001b[43m,\u001b[49m\u001b[43m \u001b[49m\u001b[43mrun_manager\u001b[49m\u001b[38;5;241;43m=\u001b[39;49m\u001b[43mrun_manager\u001b[49m\u001b[43m,\u001b[49m\u001b[43m \u001b[49m\u001b[38;5;241;43m*\u001b[39;49m\u001b[38;5;241;43m*\u001b[39;49m\u001b[43mkwargs\u001b[49m\n\u001b[0;32m    927\u001b[0m \u001b[43m        \u001b[49m\u001b[43m)\u001b[49m\n\u001b[0;32m    928\u001b[0m     \u001b[38;5;28;01melse\u001b[39;00m:\n\u001b[0;32m    929\u001b[0m         result \u001b[38;5;241m=\u001b[39m \u001b[38;5;28mself\u001b[39m\u001b[38;5;241m.\u001b[39m_generate(messages, stop\u001b[38;5;241m=\u001b[39mstop, \u001b[38;5;241m*\u001b[39m\u001b[38;5;241m*\u001b[39mkwargs)\n",
      "File \u001b[1;32md:\\web development\\chatbot\\venv\\Lib\\site-packages\\langchain_groq\\chat_models.py:480\u001b[0m, in \u001b[0;36mChatGroq._generate\u001b[1;34m(self, messages, stop, run_manager, **kwargs)\u001b[0m\n\u001b[0;32m    475\u001b[0m message_dicts, params \u001b[38;5;241m=\u001b[39m \u001b[38;5;28mself\u001b[39m\u001b[38;5;241m.\u001b[39m_create_message_dicts(messages, stop)\n\u001b[0;32m    476\u001b[0m params \u001b[38;5;241m=\u001b[39m {\n\u001b[0;32m    477\u001b[0m     \u001b[38;5;241m*\u001b[39m\u001b[38;5;241m*\u001b[39mparams,\n\u001b[0;32m    478\u001b[0m     \u001b[38;5;241m*\u001b[39m\u001b[38;5;241m*\u001b[39mkwargs,\n\u001b[0;32m    479\u001b[0m }\n\u001b[1;32m--> 480\u001b[0m response \u001b[38;5;241m=\u001b[39m \u001b[38;5;28;43mself\u001b[39;49m\u001b[38;5;241;43m.\u001b[39;49m\u001b[43mclient\u001b[49m\u001b[38;5;241;43m.\u001b[39;49m\u001b[43mcreate\u001b[49m\u001b[43m(\u001b[49m\u001b[43mmessages\u001b[49m\u001b[38;5;241;43m=\u001b[39;49m\u001b[43mmessage_dicts\u001b[49m\u001b[43m,\u001b[49m\u001b[43m \u001b[49m\u001b[38;5;241;43m*\u001b[39;49m\u001b[38;5;241;43m*\u001b[39;49m\u001b[43mparams\u001b[49m\u001b[43m)\u001b[49m\n\u001b[0;32m    481\u001b[0m \u001b[38;5;28;01mreturn\u001b[39;00m \u001b[38;5;28mself\u001b[39m\u001b[38;5;241m.\u001b[39m_create_chat_result(response)\n",
      "File \u001b[1;32md:\\web development\\chatbot\\venv\\Lib\\site-packages\\groq\\resources\\chat\\completions.py:322\u001b[0m, in \u001b[0;36mCompletions.create\u001b[1;34m(self, messages, model, frequency_penalty, function_call, functions, logit_bias, logprobs, max_completion_tokens, max_tokens, n, parallel_tool_calls, presence_penalty, reasoning_format, response_format, seed, service_tier, stop, stream, temperature, tool_choice, tools, top_logprobs, top_p, user, extra_headers, extra_query, extra_body, timeout)\u001b[0m\n\u001b[0;32m    166\u001b[0m \u001b[38;5;28;01mdef\u001b[39;00m\u001b[38;5;250m \u001b[39m\u001b[38;5;21mcreate\u001b[39m(\n\u001b[0;32m    167\u001b[0m     \u001b[38;5;28mself\u001b[39m,\n\u001b[0;32m    168\u001b[0m     \u001b[38;5;241m*\u001b[39m,\n\u001b[1;32m   (...)\u001b[0m\n\u001b[0;32m    198\u001b[0m     timeout: \u001b[38;5;28mfloat\u001b[39m \u001b[38;5;241m|\u001b[39m httpx\u001b[38;5;241m.\u001b[39mTimeout \u001b[38;5;241m|\u001b[39m \u001b[38;5;28;01mNone\u001b[39;00m \u001b[38;5;241m|\u001b[39m NotGiven \u001b[38;5;241m=\u001b[39m NOT_GIVEN,\n\u001b[0;32m    199\u001b[0m ) \u001b[38;5;241m-\u001b[39m\u001b[38;5;241m>\u001b[39m ChatCompletion \u001b[38;5;241m|\u001b[39m Stream[ChatCompletionChunk]:\n\u001b[0;32m    200\u001b[0m \u001b[38;5;250m    \u001b[39m\u001b[38;5;124;03m\"\"\"\u001b[39;00m\n\u001b[0;32m    201\u001b[0m \u001b[38;5;124;03m    Creates a model response for the given chat conversation.\u001b[39;00m\n\u001b[0;32m    202\u001b[0m \n\u001b[1;32m   (...)\u001b[0m\n\u001b[0;32m    320\u001b[0m \u001b[38;5;124;03m      timeout: Override the client-level default timeout for this request, in seconds\u001b[39;00m\n\u001b[0;32m    321\u001b[0m \u001b[38;5;124;03m    \"\"\"\u001b[39;00m\n\u001b[1;32m--> 322\u001b[0m     \u001b[38;5;28;01mreturn\u001b[39;00m \u001b[38;5;28;43mself\u001b[39;49m\u001b[38;5;241;43m.\u001b[39;49m\u001b[43m_post\u001b[49m\u001b[43m(\u001b[49m\n\u001b[0;32m    323\u001b[0m \u001b[43m        \u001b[49m\u001b[38;5;124;43m\"\u001b[39;49m\u001b[38;5;124;43m/openai/v1/chat/completions\u001b[39;49m\u001b[38;5;124;43m\"\u001b[39;49m\u001b[43m,\u001b[49m\n\u001b[0;32m    324\u001b[0m \u001b[43m        \u001b[49m\u001b[43mbody\u001b[49m\u001b[38;5;241;43m=\u001b[39;49m\u001b[43mmaybe_transform\u001b[49m\u001b[43m(\u001b[49m\n\u001b[0;32m    325\u001b[0m \u001b[43m            \u001b[49m\u001b[43m{\u001b[49m\n\u001b[0;32m    326\u001b[0m \u001b[43m                \u001b[49m\u001b[38;5;124;43m\"\u001b[39;49m\u001b[38;5;124;43mmessages\u001b[39;49m\u001b[38;5;124;43m\"\u001b[39;49m\u001b[43m:\u001b[49m\u001b[43m \u001b[49m\u001b[43mmessages\u001b[49m\u001b[43m,\u001b[49m\n\u001b[0;32m    327\u001b[0m \u001b[43m                \u001b[49m\u001b[38;5;124;43m\"\u001b[39;49m\u001b[38;5;124;43mmodel\u001b[39;49m\u001b[38;5;124;43m\"\u001b[39;49m\u001b[43m:\u001b[49m\u001b[43m \u001b[49m\u001b[43mmodel\u001b[49m\u001b[43m,\u001b[49m\n\u001b[0;32m    328\u001b[0m \u001b[43m                \u001b[49m\u001b[38;5;124;43m\"\u001b[39;49m\u001b[38;5;124;43mfrequency_penalty\u001b[39;49m\u001b[38;5;124;43m\"\u001b[39;49m\u001b[43m:\u001b[49m\u001b[43m \u001b[49m\u001b[43mfrequency_penalty\u001b[49m\u001b[43m,\u001b[49m\n\u001b[0;32m    329\u001b[0m \u001b[43m                \u001b[49m\u001b[38;5;124;43m\"\u001b[39;49m\u001b[38;5;124;43mfunction_call\u001b[39;49m\u001b[38;5;124;43m\"\u001b[39;49m\u001b[43m:\u001b[49m\u001b[43m \u001b[49m\u001b[43mfunction_call\u001b[49m\u001b[43m,\u001b[49m\n\u001b[0;32m    330\u001b[0m \u001b[43m                \u001b[49m\u001b[38;5;124;43m\"\u001b[39;49m\u001b[38;5;124;43mfunctions\u001b[39;49m\u001b[38;5;124;43m\"\u001b[39;49m\u001b[43m:\u001b[49m\u001b[43m \u001b[49m\u001b[43mfunctions\u001b[49m\u001b[43m,\u001b[49m\n\u001b[0;32m    331\u001b[0m \u001b[43m                \u001b[49m\u001b[38;5;124;43m\"\u001b[39;49m\u001b[38;5;124;43mlogit_bias\u001b[39;49m\u001b[38;5;124;43m\"\u001b[39;49m\u001b[43m:\u001b[49m\u001b[43m \u001b[49m\u001b[43mlogit_bias\u001b[49m\u001b[43m,\u001b[49m\n\u001b[0;32m    332\u001b[0m \u001b[43m                \u001b[49m\u001b[38;5;124;43m\"\u001b[39;49m\u001b[38;5;124;43mlogprobs\u001b[39;49m\u001b[38;5;124;43m\"\u001b[39;49m\u001b[43m:\u001b[49m\u001b[43m \u001b[49m\u001b[43mlogprobs\u001b[49m\u001b[43m,\u001b[49m\n\u001b[0;32m    333\u001b[0m \u001b[43m                \u001b[49m\u001b[38;5;124;43m\"\u001b[39;49m\u001b[38;5;124;43mmax_completion_tokens\u001b[39;49m\u001b[38;5;124;43m\"\u001b[39;49m\u001b[43m:\u001b[49m\u001b[43m \u001b[49m\u001b[43mmax_completion_tokens\u001b[49m\u001b[43m,\u001b[49m\n\u001b[0;32m    334\u001b[0m \u001b[43m                \u001b[49m\u001b[38;5;124;43m\"\u001b[39;49m\u001b[38;5;124;43mmax_tokens\u001b[39;49m\u001b[38;5;124;43m\"\u001b[39;49m\u001b[43m:\u001b[49m\u001b[43m \u001b[49m\u001b[43mmax_tokens\u001b[49m\u001b[43m,\u001b[49m\n\u001b[0;32m    335\u001b[0m \u001b[43m                \u001b[49m\u001b[38;5;124;43m\"\u001b[39;49m\u001b[38;5;124;43mn\u001b[39;49m\u001b[38;5;124;43m\"\u001b[39;49m\u001b[43m:\u001b[49m\u001b[43m \u001b[49m\u001b[43mn\u001b[49m\u001b[43m,\u001b[49m\n\u001b[0;32m    336\u001b[0m \u001b[43m                \u001b[49m\u001b[38;5;124;43m\"\u001b[39;49m\u001b[38;5;124;43mparallel_tool_calls\u001b[39;49m\u001b[38;5;124;43m\"\u001b[39;49m\u001b[43m:\u001b[49m\u001b[43m \u001b[49m\u001b[43mparallel_tool_calls\u001b[49m\u001b[43m,\u001b[49m\n\u001b[0;32m    337\u001b[0m \u001b[43m                \u001b[49m\u001b[38;5;124;43m\"\u001b[39;49m\u001b[38;5;124;43mpresence_penalty\u001b[39;49m\u001b[38;5;124;43m\"\u001b[39;49m\u001b[43m:\u001b[49m\u001b[43m \u001b[49m\u001b[43mpresence_penalty\u001b[49m\u001b[43m,\u001b[49m\n\u001b[0;32m    338\u001b[0m \u001b[43m                \u001b[49m\u001b[38;5;124;43m\"\u001b[39;49m\u001b[38;5;124;43mreasoning_format\u001b[39;49m\u001b[38;5;124;43m\"\u001b[39;49m\u001b[43m:\u001b[49m\u001b[43m \u001b[49m\u001b[43mreasoning_format\u001b[49m\u001b[43m,\u001b[49m\n\u001b[0;32m    339\u001b[0m \u001b[43m                \u001b[49m\u001b[38;5;124;43m\"\u001b[39;49m\u001b[38;5;124;43mresponse_format\u001b[39;49m\u001b[38;5;124;43m\"\u001b[39;49m\u001b[43m:\u001b[49m\u001b[43m \u001b[49m\u001b[43mresponse_format\u001b[49m\u001b[43m,\u001b[49m\n\u001b[0;32m    340\u001b[0m \u001b[43m                \u001b[49m\u001b[38;5;124;43m\"\u001b[39;49m\u001b[38;5;124;43mseed\u001b[39;49m\u001b[38;5;124;43m\"\u001b[39;49m\u001b[43m:\u001b[49m\u001b[43m \u001b[49m\u001b[43mseed\u001b[49m\u001b[43m,\u001b[49m\n\u001b[0;32m    341\u001b[0m \u001b[43m                \u001b[49m\u001b[38;5;124;43m\"\u001b[39;49m\u001b[38;5;124;43mservice_tier\u001b[39;49m\u001b[38;5;124;43m\"\u001b[39;49m\u001b[43m:\u001b[49m\u001b[43m \u001b[49m\u001b[43mservice_tier\u001b[49m\u001b[43m,\u001b[49m\n\u001b[0;32m    342\u001b[0m \u001b[43m                \u001b[49m\u001b[38;5;124;43m\"\u001b[39;49m\u001b[38;5;124;43mstop\u001b[39;49m\u001b[38;5;124;43m\"\u001b[39;49m\u001b[43m:\u001b[49m\u001b[43m \u001b[49m\u001b[43mstop\u001b[49m\u001b[43m,\u001b[49m\n\u001b[0;32m    343\u001b[0m \u001b[43m                \u001b[49m\u001b[38;5;124;43m\"\u001b[39;49m\u001b[38;5;124;43mstream\u001b[39;49m\u001b[38;5;124;43m\"\u001b[39;49m\u001b[43m:\u001b[49m\u001b[43m \u001b[49m\u001b[43mstream\u001b[49m\u001b[43m,\u001b[49m\n\u001b[0;32m    344\u001b[0m \u001b[43m                \u001b[49m\u001b[38;5;124;43m\"\u001b[39;49m\u001b[38;5;124;43mtemperature\u001b[39;49m\u001b[38;5;124;43m\"\u001b[39;49m\u001b[43m:\u001b[49m\u001b[43m \u001b[49m\u001b[43mtemperature\u001b[49m\u001b[43m,\u001b[49m\n\u001b[0;32m    345\u001b[0m \u001b[43m                \u001b[49m\u001b[38;5;124;43m\"\u001b[39;49m\u001b[38;5;124;43mtool_choice\u001b[39;49m\u001b[38;5;124;43m\"\u001b[39;49m\u001b[43m:\u001b[49m\u001b[43m \u001b[49m\u001b[43mtool_choice\u001b[49m\u001b[43m,\u001b[49m\n\u001b[0;32m    346\u001b[0m \u001b[43m                \u001b[49m\u001b[38;5;124;43m\"\u001b[39;49m\u001b[38;5;124;43mtools\u001b[39;49m\u001b[38;5;124;43m\"\u001b[39;49m\u001b[43m:\u001b[49m\u001b[43m \u001b[49m\u001b[43mtools\u001b[49m\u001b[43m,\u001b[49m\n\u001b[0;32m    347\u001b[0m \u001b[43m                \u001b[49m\u001b[38;5;124;43m\"\u001b[39;49m\u001b[38;5;124;43mtop_logprobs\u001b[39;49m\u001b[38;5;124;43m\"\u001b[39;49m\u001b[43m:\u001b[49m\u001b[43m \u001b[49m\u001b[43mtop_logprobs\u001b[49m\u001b[43m,\u001b[49m\n\u001b[0;32m    348\u001b[0m \u001b[43m                \u001b[49m\u001b[38;5;124;43m\"\u001b[39;49m\u001b[38;5;124;43mtop_p\u001b[39;49m\u001b[38;5;124;43m\"\u001b[39;49m\u001b[43m:\u001b[49m\u001b[43m \u001b[49m\u001b[43mtop_p\u001b[49m\u001b[43m,\u001b[49m\n\u001b[0;32m    349\u001b[0m \u001b[43m                \u001b[49m\u001b[38;5;124;43m\"\u001b[39;49m\u001b[38;5;124;43muser\u001b[39;49m\u001b[38;5;124;43m\"\u001b[39;49m\u001b[43m:\u001b[49m\u001b[43m \u001b[49m\u001b[43muser\u001b[49m\u001b[43m,\u001b[49m\n\u001b[0;32m    350\u001b[0m \u001b[43m            \u001b[49m\u001b[43m}\u001b[49m\u001b[43m,\u001b[49m\n\u001b[0;32m    351\u001b[0m \u001b[43m            \u001b[49m\u001b[43mcompletion_create_params\u001b[49m\u001b[38;5;241;43m.\u001b[39;49m\u001b[43mCompletionCreateParams\u001b[49m\u001b[43m,\u001b[49m\n\u001b[0;32m    352\u001b[0m \u001b[43m        \u001b[49m\u001b[43m)\u001b[49m\u001b[43m,\u001b[49m\n\u001b[0;32m    353\u001b[0m \u001b[43m        \u001b[49m\u001b[43moptions\u001b[49m\u001b[38;5;241;43m=\u001b[39;49m\u001b[43mmake_request_options\u001b[49m\u001b[43m(\u001b[49m\n\u001b[0;32m    354\u001b[0m \u001b[43m            \u001b[49m\u001b[43mextra_headers\u001b[49m\u001b[38;5;241;43m=\u001b[39;49m\u001b[43mextra_headers\u001b[49m\u001b[43m,\u001b[49m\u001b[43m \u001b[49m\u001b[43mextra_query\u001b[49m\u001b[38;5;241;43m=\u001b[39;49m\u001b[43mextra_query\u001b[49m\u001b[43m,\u001b[49m\u001b[43m \u001b[49m\u001b[43mextra_body\u001b[49m\u001b[38;5;241;43m=\u001b[39;49m\u001b[43mextra_body\u001b[49m\u001b[43m,\u001b[49m\u001b[43m \u001b[49m\u001b[43mtimeout\u001b[49m\u001b[38;5;241;43m=\u001b[39;49m\u001b[43mtimeout\u001b[49m\n\u001b[0;32m    355\u001b[0m \u001b[43m        \u001b[49m\u001b[43m)\u001b[49m\u001b[43m,\u001b[49m\n\u001b[0;32m    356\u001b[0m \u001b[43m        \u001b[49m\u001b[43mcast_to\u001b[49m\u001b[38;5;241;43m=\u001b[39;49m\u001b[43mChatCompletion\u001b[49m\u001b[43m,\u001b[49m\n\u001b[0;32m    357\u001b[0m \u001b[43m        \u001b[49m\u001b[43mstream\u001b[49m\u001b[38;5;241;43m=\u001b[39;49m\u001b[43mstream\u001b[49m\u001b[43m \u001b[49m\u001b[38;5;129;43;01mor\u001b[39;49;00m\u001b[43m \u001b[49m\u001b[38;5;28;43;01mFalse\u001b[39;49;00m\u001b[43m,\u001b[49m\n\u001b[0;32m    358\u001b[0m \u001b[43m        \u001b[49m\u001b[43mstream_cls\u001b[49m\u001b[38;5;241;43m=\u001b[39;49m\u001b[43mStream\u001b[49m\u001b[43m[\u001b[49m\u001b[43mChatCompletionChunk\u001b[49m\u001b[43m]\u001b[49m\u001b[43m,\u001b[49m\n\u001b[0;32m    359\u001b[0m \u001b[43m    \u001b[49m\u001b[43m)\u001b[49m\n",
      "File \u001b[1;32md:\\web development\\chatbot\\venv\\Lib\\site-packages\\groq\\_base_client.py:1266\u001b[0m, in \u001b[0;36mSyncAPIClient.post\u001b[1;34m(self, path, cast_to, body, options, files, stream, stream_cls)\u001b[0m\n\u001b[0;32m   1252\u001b[0m \u001b[38;5;28;01mdef\u001b[39;00m\u001b[38;5;250m \u001b[39m\u001b[38;5;21mpost\u001b[39m(\n\u001b[0;32m   1253\u001b[0m     \u001b[38;5;28mself\u001b[39m,\n\u001b[0;32m   1254\u001b[0m     path: \u001b[38;5;28mstr\u001b[39m,\n\u001b[1;32m   (...)\u001b[0m\n\u001b[0;32m   1261\u001b[0m     stream_cls: \u001b[38;5;28mtype\u001b[39m[_StreamT] \u001b[38;5;241m|\u001b[39m \u001b[38;5;28;01mNone\u001b[39;00m \u001b[38;5;241m=\u001b[39m \u001b[38;5;28;01mNone\u001b[39;00m,\n\u001b[0;32m   1262\u001b[0m ) \u001b[38;5;241m-\u001b[39m\u001b[38;5;241m>\u001b[39m ResponseT \u001b[38;5;241m|\u001b[39m _StreamT:\n\u001b[0;32m   1263\u001b[0m     opts \u001b[38;5;241m=\u001b[39m FinalRequestOptions\u001b[38;5;241m.\u001b[39mconstruct(\n\u001b[0;32m   1264\u001b[0m         method\u001b[38;5;241m=\u001b[39m\u001b[38;5;124m\"\u001b[39m\u001b[38;5;124mpost\u001b[39m\u001b[38;5;124m\"\u001b[39m, url\u001b[38;5;241m=\u001b[39mpath, json_data\u001b[38;5;241m=\u001b[39mbody, files\u001b[38;5;241m=\u001b[39mto_httpx_files(files), \u001b[38;5;241m*\u001b[39m\u001b[38;5;241m*\u001b[39moptions\n\u001b[0;32m   1265\u001b[0m     )\n\u001b[1;32m-> 1266\u001b[0m     \u001b[38;5;28;01mreturn\u001b[39;00m cast(ResponseT, \u001b[38;5;28;43mself\u001b[39;49m\u001b[38;5;241;43m.\u001b[39;49m\u001b[43mrequest\u001b[49m\u001b[43m(\u001b[49m\u001b[43mcast_to\u001b[49m\u001b[43m,\u001b[49m\u001b[43m \u001b[49m\u001b[43mopts\u001b[49m\u001b[43m,\u001b[49m\u001b[43m \u001b[49m\u001b[43mstream\u001b[49m\u001b[38;5;241;43m=\u001b[39;49m\u001b[43mstream\u001b[49m\u001b[43m,\u001b[49m\u001b[43m \u001b[49m\u001b[43mstream_cls\u001b[49m\u001b[38;5;241;43m=\u001b[39;49m\u001b[43mstream_cls\u001b[49m\u001b[43m)\u001b[49m)\n",
      "File \u001b[1;32md:\\web development\\chatbot\\venv\\Lib\\site-packages\\groq\\_base_client.py:958\u001b[0m, in \u001b[0;36mSyncAPIClient.request\u001b[1;34m(self, cast_to, options, remaining_retries, stream, stream_cls)\u001b[0m\n\u001b[0;32m    955\u001b[0m \u001b[38;5;28;01melse\u001b[39;00m:\n\u001b[0;32m    956\u001b[0m     retries_taken \u001b[38;5;241m=\u001b[39m \u001b[38;5;241m0\u001b[39m\n\u001b[1;32m--> 958\u001b[0m \u001b[38;5;28;01mreturn\u001b[39;00m \u001b[38;5;28;43mself\u001b[39;49m\u001b[38;5;241;43m.\u001b[39;49m\u001b[43m_request\u001b[49m\u001b[43m(\u001b[49m\n\u001b[0;32m    959\u001b[0m \u001b[43m    \u001b[49m\u001b[43mcast_to\u001b[49m\u001b[38;5;241;43m=\u001b[39;49m\u001b[43mcast_to\u001b[49m\u001b[43m,\u001b[49m\n\u001b[0;32m    960\u001b[0m \u001b[43m    \u001b[49m\u001b[43moptions\u001b[49m\u001b[38;5;241;43m=\u001b[39;49m\u001b[43moptions\u001b[49m\u001b[43m,\u001b[49m\n\u001b[0;32m    961\u001b[0m \u001b[43m    \u001b[49m\u001b[43mstream\u001b[49m\u001b[38;5;241;43m=\u001b[39;49m\u001b[43mstream\u001b[49m\u001b[43m,\u001b[49m\n\u001b[0;32m    962\u001b[0m \u001b[43m    \u001b[49m\u001b[43mstream_cls\u001b[49m\u001b[38;5;241;43m=\u001b[39;49m\u001b[43mstream_cls\u001b[49m\u001b[43m,\u001b[49m\n\u001b[0;32m    963\u001b[0m \u001b[43m    \u001b[49m\u001b[43mretries_taken\u001b[49m\u001b[38;5;241;43m=\u001b[39;49m\u001b[43mretries_taken\u001b[49m\u001b[43m,\u001b[49m\n\u001b[0;32m    964\u001b[0m \u001b[43m\u001b[49m\u001b[43m)\u001b[49m\n",
      "File \u001b[1;32md:\\web development\\chatbot\\venv\\Lib\\site-packages\\groq\\_base_client.py:1061\u001b[0m, in \u001b[0;36mSyncAPIClient._request\u001b[1;34m(self, cast_to, options, retries_taken, stream, stream_cls)\u001b[0m\n\u001b[0;32m   1058\u001b[0m         err\u001b[38;5;241m.\u001b[39mresponse\u001b[38;5;241m.\u001b[39mread()\n\u001b[0;32m   1060\u001b[0m     log\u001b[38;5;241m.\u001b[39mdebug(\u001b[38;5;124m\"\u001b[39m\u001b[38;5;124mRe-raising status error\u001b[39m\u001b[38;5;124m\"\u001b[39m)\n\u001b[1;32m-> 1061\u001b[0m     \u001b[38;5;28;01mraise\u001b[39;00m \u001b[38;5;28mself\u001b[39m\u001b[38;5;241m.\u001b[39m_make_status_error_from_response(err\u001b[38;5;241m.\u001b[39mresponse) \u001b[38;5;28;01mfrom\u001b[39;00m\u001b[38;5;250m \u001b[39m\u001b[38;5;28;01mNone\u001b[39;00m\n\u001b[0;32m   1063\u001b[0m \u001b[38;5;28;01mreturn\u001b[39;00m \u001b[38;5;28mself\u001b[39m\u001b[38;5;241m.\u001b[39m_process_response(\n\u001b[0;32m   1064\u001b[0m     cast_to\u001b[38;5;241m=\u001b[39mcast_to,\n\u001b[0;32m   1065\u001b[0m     options\u001b[38;5;241m=\u001b[39moptions,\n\u001b[1;32m   (...)\u001b[0m\n\u001b[0;32m   1069\u001b[0m     retries_taken\u001b[38;5;241m=\u001b[39mretries_taken,\n\u001b[0;32m   1070\u001b[0m )\n",
      "\u001b[1;31mBadRequestError\u001b[0m: Error code: 400 - {'error': {'message': 'Please reduce the length of the messages or completion.', 'type': 'invalid_request_error', 'param': 'messages', 'code': 'context_length_exceeded'}}"
     ]
    }
   ],
   "source": [
    "response = rag_chain.invoke({\"input\": str(initial_query)})\n",
    "response"
   ]
  },
  {
   "cell_type": "code",
   "execution_count": 62,
   "metadata": {},
   "outputs": [],
   "source": [
    "from IPython.display import display, Markdown"
   ]
  },
  {
   "cell_type": "code",
   "execution_count": 85,
   "metadata": {},
   "outputs": [],
   "source": [
    "from langchain.chains import create_history_aware_retriever\n",
    "from langchain_core.prompts import MessagesPlaceholder\n",
    "\n",
    "contextualize_q_system_prompt = (\"\"\"\n",
    "    Given a chat history and the latest user question  which might reference context in the chat history,    \n",
    "    formulate a standalone question which can be understood \n",
    "    without the chat history and if necessary use above format for retrival to formulate a standalone question. Do NOT answer the question,\n",
    "    \"just reformulate it if needed and otherwise return it as is.\"\"\"\n",
    ")\n",
    "contextualize_q_prompt = ChatPromptTemplate.from_messages(\n",
    "    [\n",
    "        (\"system\", contextualize_q_system_prompt),\n",
    "        MessagesPlaceholder(\"chat_history\"),\n",
    "        (\"human\", \"{input}\"),\n",
    "    ]\n",
    ")\n",
    "history_aware_retriever = create_history_aware_retriever(\n",
    "    llm, retriever, contextualize_q_prompt\n",
    ")"
   ]
  },
  {
   "cell_type": "code",
   "execution_count": 86,
   "metadata": {},
   "outputs": [],
   "source": [
    "qa_prompt = ChatPromptTemplate.from_messages(\n",
    "    [\n",
    "        (\"system\", system_prompt),\n",
    "        MessagesPlaceholder(\"chat_history\"),\n",
    "        (\"human\", \"{input}\"),\n",
    "    ]\n",
    ")\n",
    "\n",
    "question_answer_chain = create_stuff_documents_chain(llm, qa_prompt)\n",
    "\n",
    "rag_chain = create_retrieval_chain(history_aware_retriever, question_answer_chain)"
   ]
  },
  {
   "cell_type": "code",
   "execution_count": 34,
   "metadata": {},
   "outputs": [],
   "source": [
    "Initial_suggestion = {\n",
    "    \"City\": \"Ahmedabad\",\n",
    "    \"Possession\": \"In 3 years\",\n",
    "    \"Property\": \"Only New Construction\",\n",
    "    \"Property type\": \"Apartment\",\n",
    "    \"Property Configuration\": [\"2 BHK\", \"3 BHK\"],\n",
    "    \"Address\": [\"Shela\", \"Shilaj\", \"Bopal\", \"South Bopal\"],\n",
    "    \"Workplace/School\": \"Yes, should be within nearby are\",\n",
    "    \"Budget\": \"₹50L - ₹1Cr\",\n",
    "    \"neighbourhood\": \"Quiet & Residential\",\n",
    "}"
   ]
  },
  {
   "cell_type": "code",
   "execution_count": null,
   "metadata": {},
   "outputs": [],
   "source": []
  },
  {
   "cell_type": "code",
   "execution_count": 87,
   "metadata": {},
   "outputs": [],
   "source": [
    "chat_history = []\n",
    "\n",
    "first_question = \"Hi, can you suggest me properties in shela aroung 50L to 60L?\"\n",
    "ai_msg_1 = rag_chain.invoke({\"input\": str(\"first_question\"), \"chat_history\": chat_history})\n",
    "chat_history.extend(\n",
    "    [\n",
    "        HumanMessage(content=str(first_question)),\n",
    "        AIMessage(content=ai_msg_1[\"answer\"]),\n",
    "    ]\n",
    ")"
   ]
  },
  {
   "cell_type": "code",
   "execution_count": 88,
   "metadata": {},
   "outputs": [
    {
     "data": {
      "text/plain": [
       "{'input': 'first_question',\n",
       " 'chat_history': [HumanMessage(content='Hi, can you suggest me properties in shela aroung 50L to 60L?', additional_kwargs={}, response_metadata={}),\n",
       "  AIMessage(content=\"I'm happy to help you with your question! However, I need some more information from you. Could you please specify which property you would like me to analyze and provide a recommendation for? The options are:\\n\\n1. Western Unity by Western Buildcon\\n2. Anmol Forum by Omro Developers\\n3. Prerna Darshan by Prerna Infrabuild Ltd.\\n4. Iscon JP Iscon Residency by Iscon Group Builders\\n5. Shyam Jivan Amrut by Shyam Jivan Developers\\n\\nPlease let me know which one you are interested in, and I'll do my best to provide you with an analysis and a recommendation.\", additional_kwargs={}, response_metadata={})],\n",
       " 'context': [Document(metadata={'url': 'https://housing.com/buy-western-unity-by-western-buildcon-in-vaishno-devi-circle-ahmedabad-pid-292027'}, page_content='{\\'url\\': \\'https://housing.com/buy-western-unity-by-western-buildcon-in-vaishno-devi-circle-ahmedabad-pid-292027\\', \\'name\\': \\'Western Unity\\', \\'developer\\': \\'Western Buildcon\\', \\'address\\': \\'Nr Sardar Dham Vaishnudevi Circle, Khodiyar, North West, Ahmedabad\\', \\'price_range\\': \\'63.76 L - 72.0 L\\', \\'basic_details\\': {\\'Configuration\\': \\'3 BHK Apartment\\', \\'Possession Starts\\': \\'Dec, 2026\\', \\'Avg. Price\\': \\'₹7.43 K/sq.ft\\'}, \\'nearby_places\\': [{\\'Category\\': \\'School\\', \\'Name\\': \\'Gems Genesis International School (GGIS)\\', \\'Travel Time\\': \\'3 mins\\', \\'Distance\\': \\'(1.5 km)\\'}, {\\'Category\\': \\'Hospital\\', \\'Name\\': \\'KD Hospital\\', \\'Travel Time\\': \\'2 mins\\', \\'Distance\\': \\'(1 km)\\'}, {\\'Category\\': \\'Restaurant\\', \\'Name\\': \\'\"VEDA\" GATHIYA RATH\\', \\'Travel Time\\': \\'Unknown\\', \\'Distance\\': \\'Unknown\\'}, {\\'Category\\': \\'Mall\\', \\'Name\\': \\'Adani Shantigram Mall\\', \\'Travel Time\\': \\'8 mins\\', \\'Distance\\': \\'(4.2 km)\\'}, {\\'Category\\': \\'Bus Stand\\', \\'Name\\': \\'Godrej Garden City Bus Stop\\', \\'Travel Time\\': \\'6 mins\\', \\'Distance\\': \\'(4.1 km)\\'}], \\'project_details\\': {\\'Project Area\\': \\'0.58 Acres\\', \\'Sizes\\': \\'858 - 969 sq.ft.\\', \\'Project Size\\': \\'2 Buildings - 84 units\\', \\'Launch Date\\': \\'Oct, 2022\\', \\'Avg. Price\\': \\'7.43 K/sq.ft\\', \\'Possession Starts\\': \\'Dec, 2026\\', \\'Configuration\\': \\'3 BHK Apartment\\', \\'Rera Id\\': \\'https://gujrera.gujarat.gov.in/#/project-preview\\'}, \\'description\\': \\'Western Unity is a project by Western Buildcon in Ahmedabad. It is a Under Construction project. Western Unity offers some of the most conveniently designed Apartment. Located in Vaishno Devi Circle, it is a residential project. The project is spread over 0.58 Acres . It has 84 units. There are 2 buildings in this project. Western Unity offers some of the most exclusive 3 BHK. As per the area plan, units are in the size range of 858.0 - 866.0 sq.ft.. The address of Western Unity is Nr Sardar Dham Vaishnudevi Circle, Khodiyar.Western Unity ensures a coveted lifestyle and offers a convenient living. It offers facilities such as Power Backup. There is 24x7 Security. It is a Gated Community.The project is RERA approved. For details, check RERA ID PR/GJ/AHMEDABAD/AHMEDABAD CITY/Ahmedabad Urban Development Authority/MN278AA10178/261222.The firm has since then developed 1 projects and focuses on customer-centricity.Vaishno Devi Circle is well-connected to other parts of city by road, which passes through the heart of this suburb.  Prominent shopping malls, movie theatres, school, and hospitals are present in proximity of this residential project.\\', \\'bhk_details\\': [{\\'BHK Type\\': \\'3 BHK\\', \\'Property Type\\': \\'Apartment\\', \\'Price\\': \\'63.76 L - 72 L\\'}], \\'ratings\\': [{\\'Feature\\': \\'Connectivity\\', \\'Rating\\': \\'4.7/5\\'}, {\\'Feature\\': \\'Neighbourhood\\', \\'Rating\\': \\'4.8/5\\'}, {\\'Feature\\': \\'Safety\\', \\'Rating\\': \\'4.7/5\\'}, {\\'Feature\\': \\'Livability\\', \\'Rating\\': \\'4.7/5\\'}], \\'good_points\\': [\\'Well-connected location\\', \\'Nearby hospitals and schools\\', \\'Greenery and calm atmosphere\\', \\'+1 More\\'], \\'bad_points\\': [\\'Traffic congestion\\', \\'High rental charges\\', \\'Lack of parking facilities\\']}'),\n",
       "  Document(metadata={'url': 'https://housing.com/buy-anmol-forum-by-omro-developers-in-nikol-ahmedabad-pid-50077'}, page_content=\"{'url': 'https://housing.com/buy-anmol-forum-by-omro-developers-in-nikol-ahmedabad-pid-50077', 'name': 'Anmol Forum', 'developer': 'Omro Developers', 'address': 'Nikol, Ahmedabad City & East, North East, Ahmedabad', 'price_range': 'Price on Request', 'basic_details': {'Avg. Price': 'Price on request'}, 'nearby_places': [{'Category': 'School', 'Name': 'R P Vasani International School', 'Travel Time': '2 mins', 'Distance': '(0.9 km)'}, {'Category': 'Hospital', 'Name': 'Maa MultiCare Hospital', 'Travel Time': '3 mins', 'Distance': '(0.6 km)'}, {'Category': 'Airport', 'Name': 'Sardar Vallabhbhai Patel International Airport', 'Travel Time': '21 mins', 'Distance': '(20.9 km)'}, {'Category': 'Restaurant', 'Name': 'Kutchi King', 'Travel Time': '2 mins', 'Distance': '(0.9 km)'}, {'Category': 'Mall', 'Name': 'Shivam Complex', 'Travel Time': 'Unknown', 'Distance': 'Unknown'}], 'project_details': {}, 'description': 'Anmol Forum is a project by Omro Developers in Ahmedabad. Located in Nikol, it is a residential project. The address of  Anmol Forum is Nikol, Ahmedabad City & East. Anmol Forum ensures a coveted lifestyle and offers a convenient living.All major banks such as HDFC, Punjab National Bank  have approved home loans for  Anmol Forum.Nikol is well-connected to other parts of the city via an extensive road.', 'bhk_details': [], 'ratings': [{'Feature': 'Connectivity', 'Rating': '4.6/5'}, {'Feature': 'Neighbourhood', 'Rating': '4.5/5'}, {'Feature': 'Safety', 'Rating': '4.6/5'}, {'Feature': 'Livability', 'Rating': '4.7/5'}], 'good_points': ['Near airport, school, hospital', 'Good connectivity to amenities', 'Affordable compared to other areas', '+1 More'], 'bad_points': ['Traffic congestion during peak hours', 'Internal roads upkeep', 'Water logging during monsoon']}\"),\n",
       "  Document(metadata={'url': 'https://housing.com/buy-prerna-darshan-by-prerna-infrabuild-ltd-in-vasna-ahmedabad-pid-218434'}, page_content=\"{'url': 'https://housing.com/buy-prerna-darshan-by-prerna-infrabuild-ltd-in-vasna-ahmedabad-pid-218434', 'name': 'Prerna Darshan', 'developer': 'Prerna Infrabuild Ltd.', 'address': 'Vasna, Ahmedabad West, Central West, Ahmedabad', 'price_range': 'Price on Request', 'basic_details': {'Avg. Price': 'Price on request'}, 'nearby_places': [{'Category': 'School', 'Name': 'RC Patel High School', 'Travel Time': '1 min', 'Distance': '(0.1 km)'}, {'Category': 'Hospital', 'Name': 'Synergy Hospital', 'Travel Time': '2 mins', 'Distance': '(0.5 km)'}, {'Category': 'Railway Station', 'Name': 'Shreyas Metro Station', 'Travel Time': '3 mins', 'Distance': '(1.6 km)'}, {'Category': 'Restaurant', 'Name': 'Madhur Snacks', 'Travel Time': 'Unknown', 'Distance': 'Unknown'}, {'Category': 'Mall', 'Name': 'Shree Sahjananand Plaza', 'Travel Time': '2 mins', 'Distance': '(1.4 km)'}], 'project_details': {}, 'description': 'Residential project, Prerna Darshan in Ahmedabad is offering units for sale in Vasna. Contact for further details. Prerna Darshan is located in Vasna, Ahmedabad West.Prerna Infrabuild Ltd. is a very well-known developer-firm in this real estate market. Residents and their lifestyle are at the centre of their developments.Prominent suburbs of Ahmedabad are close by to Vasna and with several schools, hospitals, banks and offices situated in the proximity, the project is a preferred choice for home seekers.', 'bhk_details': [], 'ratings': [{'Feature': 'Connectivity', 'Rating': '4.7/5'}, {'Feature': 'Neighbourhood', 'Rating': '4.7/5'}, {'Feature': 'Safety', 'Rating': '4.7/5'}, {'Feature': 'Livability', 'Rating': '4.7/5'}], 'good_points': ['Nearby metro station', 'Good hospital nearby', 'Posh area of Ahmedabad', '+1 More'], 'bad_points': ['Road cleanliness', 'Road construction', 'Traffic congestion']}\"),\n",
       "  Document(metadata={'url': 'https://housing.com/buy-iscon-jp-iscon-residency-by-iscon-group-builders-in-gulbai-tekra-ahmedabad-pid-205992'}, page_content=\"{'url': 'https://housing.com/buy-iscon-jp-iscon-residency-by-iscon-group-builders-in-gulbai-tekra-ahmedabad-pid-205992', 'name': 'Iscon JP Iscon Residency', 'developer': 'Iscon Group Builders', 'address': 'Gulbai Tekra, Ahmedabad West, Central West, Ahmedabad', 'price_range': 'Price on Request', 'basic_details': {'Avg. Price': 'Price on request'}, 'nearby_places': [{'Category': 'School', 'Name': 'Sheth C N Vidyalaya', 'Travel Time': '2 mins', 'Distance': '(0.6 km)'}, {'Category': 'Hospital', 'Name': 'Apple Children Hospital-Best Pediatric Hospital-Children kidney hospital-Pediatric Surgery-NICU in Ahmedabad', 'Travel Time': '1 min', 'Distance': '(0.4 km)'}, {'Category': 'Railway Station', 'Name': 'Paldi Metro Station', 'Travel Time': '3 mins', 'Distance': '(2.2 km)'}, {'Category': 'Restaurant', 'Name': 'Honest', 'Travel Time': '1 min', 'Distance': '(0.2 km)'}, {'Category': 'Mall', 'Name': 'CG Square Mall', 'Travel Time': '1 min', 'Distance': '(0.7 km)'}], 'project_details': {}, 'description': 'Iscon Group Builders has lauched Iscon JP Iscon Residency in Gulbai Tekra, Ahmedabad. The address of Iscon JP Iscon Residency is Gulbai Tekra, Ahmedabad West.Own a home in Iscon JP Iscon Residency today!.This project has been developed by Iscon Group Builders.Gulbai Tekra is well-connected to other parts of city by road, which passes through the heart of this suburb.  Prominent shopping malls, movie theatres, school, and hospitals are present in proximity of this residential project.', 'bhk_details': [], 'ratings': [], 'good_points': [], 'bad_points': []}\"),\n",
       "  Document(metadata={'url': 'https://housing.com/buy-shyam-jivan-amrut-by-shyam-jivan-developers-in-isanpur-ahmedabad-pid-198925'}, page_content=\"{'url': 'https://housing.com/buy-shyam-jivan-amrut-by-shyam-jivan-developers-in-isanpur-ahmedabad-pid-198925', 'name': 'Shyam Jivan Amrut', 'developer': 'Shyam Jivan Developers', 'address': 'Opp Sharda School , Partheshwar Mahadev , Umiya Dham Temple Road , Isanpur, South East, Ahmedabad', 'price_range': 'Price on Request', 'basic_details': {'Avg. Price': 'Price on request'}, 'nearby_places': [{'Category': 'School', 'Name': 'Nandish School', 'Travel Time': '1 min', 'Distance': '(1 km)'}, {'Category': 'Hospital', 'Name': 'Vatva Orthopaedic Hospital & Dental Clinic', 'Travel Time': '2 mins', 'Distance': '(1.7 km)'}, {'Category': 'Restaurant', 'Name': 'Umiya Annapurna kathiyawadi / Punjabi', 'Travel Time': '2 mins', 'Distance': '(1.8 km)'}, {'Category': 'Mall', 'Name': 'Pushpam Complex Isanpur', 'Travel Time': '2 mins', 'Distance': '(1 km)'}, {'Category': 'Bus Stand', 'Name': 'Shree Ram Pan Parlour Bus Stop', 'Travel Time': '3 mins', 'Distance': '(2.4 km)'}], 'project_details': {}, 'description': 'Amrut is a residential project by Shyam Jivan Developers, a real estate infrastructure company in Isanpur, Ahmedabad. This is one of the most talked-about projects by Shyam Jivan Developers. The project has been uniquely designed, keeping in mind all the essential amenities required by you and your family. The total area of the land is 0.86 acres. The area is under construction.The project contains facilities like open parking; lift facility, drainage and sewerage facilities, fire protection facility, 24 hours water supply, CCTV, jogging track, childrens playground, earthquake resistant structure, and many more. The company believes in keeping their environment clean and green. The hospitals, banks, and schools are located in proximity to the project. The transport facilities are very efficient and you can find cabs, buses and other vehicles. The airport is 14.5 km and the railway station is 8.4 km from the residency.If you want to know more about the project, you are always welcome to the site. Our team will be happy to help you to make the correct choice.', 'bhk_details': [], 'ratings': [{'Feature': 'Connectivity', 'Rating': '5/5'}, {'Feature': 'Neighbourhood', 'Rating': '5/5'}, {'Feature': 'Safety', 'Rating': '5/5'}, {'Feature': 'Livability', 'Rating': '4/5'}], 'good_points': ['Spacious tenament with 3 bedrooms', 'Easy transportation access', 'Near vegetable and local markets', '+1 More'], 'bad_points': []}\")],\n",
       " 'answer': \"I'm happy to help you with your question! However, I need some more information from you. Could you please specify which property you would like me to analyze and provide a recommendation for? The options are:\\n\\n1. Western Unity by Western Buildcon\\n2. Anmol Forum by Omro Developers\\n3. Prerna Darshan by Prerna Infrabuild Ltd.\\n4. Iscon JP Iscon Residency by Iscon Group Builders\\n5. Shyam Jivan Amrut by Shyam Jivan Developers\\n\\nPlease let me know which one you are interested in, and I'll do my best to provide you with an analysis and a recommendation.\"}"
      ]
     },
     "execution_count": 88,
     "metadata": {},
     "output_type": "execute_result"
    }
   ],
   "source": [
    "ai_msg_1"
   ]
  },
  {
   "cell_type": "code",
   "execution_count": 67,
   "metadata": {},
   "outputs": [
    {
     "data": {
      "text/markdown": [
       "Based on the retrieved context, I will analyze the properties and provide an answer to the question.\n",
       "\n",
       "You are considering buying a property in Ahmedabad. I will analyze the properties mentioned in the context and provide my recommendation.\n",
       "\n",
       "The first property I will analyze is \"Western Unity\" by Western Buildcon in Vaishno Devi Circle, Ahmedabad.\n",
       "\n",
       "**Property Details:**\n",
       "\n",
       "* Address: Nr Sardar Dham Vaishnudevi Circle, Khodiyar, North West, Ahmedabad\n",
       "* Price Range: ₹63.76 L - ₹72.0 L\n",
       "* Configuration: 3 BHK Apartment\n",
       "* Possession Starts: Dec, 2026\n",
       "* Nearby Places:\n",
       "\t+ School: Gems Genesis International School (GGIS) - 3 mins\n",
       "\t+ Hospital: KD Hospital - 2 mins\n",
       "\t+ Restaurant: \"VEDA\" GATHIYA RATH - Unknown\n",
       "\t+ Mall: Adani Shantigram Mall - 8 mins\n",
       "\t+ Bus Stand: Godrej Garden City Bus Stop - 6 mins\n",
       "\n",
       "**Analysis:**\n",
       "\n",
       "* Pros:\n",
       "\t+ Located in a well-connected area with easy access to schools, hospitals, and malls.\n",
       "\t+ Possession starts in Dec, 2026, which is relatively soon.\n",
       "* Cons:\n",
       "\t+ Traffic congestion in the area.\n",
       "\t+ High rental charges.\n",
       "\t+ Lack of parking facilities.\n",
       "\n",
       "**Recommendation:**\n",
       "\n",
       "I recommend considering \"Western Unity\" as an option for buying a property in Ahmedabad. The property's location, with easy access to schools, hospitals, and malls, makes it a convenient choice. However, the traffic congestion and high rental charges are drawbacks to consider. It's essential to weigh these pros and cons before making a decision.\n",
       "\n",
       "Please let me know if you would like me to analyze the other properties as well."
      ],
      "text/plain": [
       "<IPython.core.display.Markdown object>"
      ]
     },
     "metadata": {},
     "output_type": "display_data"
    }
   ],
   "source": [
    "display(Markdown(ai_msg_1[\"answer\"]))"
   ]
  },
  {
   "cell_type": "code",
   "execution_count": 44,
   "metadata": {},
   "outputs": [],
   "source": [
    "second_question = \"can you give me details about Pramukh Prathna Residency?\"\n",
    "ai_msg_2 = rag_chain.invoke({\"input\": second_question, \"chat_history\": chat_history})"
   ]
  },
  {
   "cell_type": "code",
   "execution_count": 46,
   "metadata": {},
   "outputs": [],
   "source": [
    "chat_history.extend(\n",
    "    [\n",
    "        HumanMessage(content=str(second_question)),\n",
    "        AIMessage(content=ai_msg_2[\"answer\"]),\n",
    "    ]\n",
    ")"
   ]
  },
  {
   "cell_type": "code",
   "execution_count": 45,
   "metadata": {},
   "outputs": [
    {
     "data": {
      "text/markdown": [
       "Pramukh Prathna Residency is a residential project located in Chanakyapuri, Ahmedabad. Here are some details about the project:\n",
       "\n",
       "**Project Details**\n",
       "\n",
       "* Project Name: Pramukh Prathna Residency\n",
       "* Location: Chanakyapuri, Ahmedabad\n",
       "* Developer: Pramukh Nirman Assets LLP\n",
       "* Launched Date: July 2021\n",
       "* Possession Date: March 2025\n",
       "* Project Size: 1.68 Acres\n",
       "* Number of Buildings: 3\n",
       "* Number of Units: 161\n",
       "* Configuration: 3, 4 BHK Apartments\n",
       "* Sizes: 104.61 - 124.58 sq.mt.\n",
       "\n",
       "**Amenities**\n",
       "\n",
       "* Power Backup\n",
       "* Fire Sprinklers\n",
       "* Landscaping & Tree Planting\n",
       "* Gyms\n",
       "* Swimming Pool\n",
       "* Children's Play Area\n",
       "* Clubhouse\n",
       "* Library\n",
       "* Indoor Games\n",
       "* Outdoor Games\n",
       "* Multi-Purpose Court\n",
       "* Security with CCTV cameras\n",
       "* 24/7 Power Backup\n",
       "\n",
       "**Nearby Amenities**\n",
       "\n",
       "* Schools: I D Patel School (1 min), S S Divine School (3 min)\n",
       "* Hospitals: Shayona Hospital & ICU (2 min), SPS Apollo Hospital (5 min)\n",
       "* Restaurants: Friesbag (2 min), Pause Restrocafe (2 min)\n",
       "* Malls: Devnandan Complex (2 min), Shukan Bunglow Road (5 min)\n",
       "* Bus Stand: Ranna Park Bus Stop (4 min)\n",
       "\n",
       "**Connectivity**\n",
       "\n",
       "* Road Connectivity: Chanakyapuri is connected to other parts of the city via the Sardar Patel Ring Road and the Ahmedabad-Vadodara Expressway.\n",
       "* Public Transport: The project is close to public transport hubs like Ranna Park Bus Stop and the Ahmedabad Metro.\n",
       "\n",
       "**Price Range**\n",
       "\n",
       "* The price range for Pramukh Prathna Residency is ₹1.20 Cr - ₹1.62 Cr, depending on the configuration and size of the apartment.\n",
       "\n",
       "**Ratings**\n",
       "\n",
       "* Connectivity: 5/5\n",
       "* Neighborhood: 4.8/5\n",
       "* Safety: 5/5\n",
       "* Livability: 4.5/5\n",
       "\n",
       "**Good Points**\n",
       "\n",
       "* Safe for children\n",
       "* Good school nearby\n",
       "* No water shortage\n",
       "* Good connectivity to other parts of the city\n",
       "\n",
       "**Bad Points**\n",
       "\n",
       "* Low security\n",
       "* High price for area\n",
       "\n",
       "Please note that these details are based on the retrieved context and may not be exhaustive or up-to-date. It's always a good idea to verify the information with the developer or a reliable source before making a decision."
      ],
      "text/plain": [
       "<IPython.core.display.Markdown object>"
      ]
     },
     "metadata": {},
     "output_type": "display_data"
    }
   ],
   "source": [
    "display(Markdown(ai_msg_2[\"answer\"]))"
   ]
  },
  {
   "cell_type": "code",
   "execution_count": 47,
   "metadata": {},
   "outputs": [
    {
     "data": {
      "text/markdown": [
       "I apologize for the mistake. I misunderstood the location you were looking for. I do not have any properties in Shela matching the price range of 50-60 lakhs. However, I can suggest you to check the properties in Shela on real estate websites like Housing.com, 99acres.com, or Magicbricks.com. You can also contact local real estate agents or brokers who have knowledge of the area and can guide you through the process.\n",
       "\n",
       "Please let me know if there's anything else I can help you with. I'll make sure to provide more accurate information in the future."
      ],
      "text/plain": [
       "<IPython.core.display.Markdown object>"
      ]
     },
     "metadata": {},
     "output_type": "display_data"
    }
   ],
   "source": [
    "question = \"But it is not in shela. I told you to suggest me properties in shela?\"\n",
    "ai_msg = rag_chain.invoke({\"input\": question, \"chat_history\": chat_history})\n",
    "chat_history.extend(\n",
    "    [\n",
    "        HumanMessage(content=str(question)),\n",
    "        AIMessage(content=ai_msg[\"answer\"]),\n",
    "    ]\n",
    ")\n",
    "display(Markdown(ai_msg[\"answer\"]))"
   ]
  },
  {
   "cell_type": "code",
   "execution_count": 48,
   "metadata": {},
   "outputs": [
    {
     "data": {
      "text/markdown": [
       "I apologize for the earlier mistake. After re-checking the retrieved context, I found the following property in Shela:\n",
       "\n",
       "* **Hindva Shantiniketan Solitare**: This is a project by Hindva Builders in Nikol, Ahmedabad, which is close to Shela. The property offers 2 BHK apartments with a size range of 1161-1500 sq ft. The price range is not specified in the context, but it's within the range of 50-60 lakhs.\n",
       "\n",
       "Here are some details about the property:\n",
       "\n",
       "* Location: Nikol, Ahmedabad (close to Shela)\n",
       "* Developer: Hindva Builders\n",
       "* Property Type: 2 BHK apartments\n",
       "* Size Range: 1161-1500 sq ft\n",
       "* Amenities: Car parking spaces, children's play area, club house, gymnasium, landscaped gardens, lifts, power backup, regular supply of water\n",
       "* Ratings: Connectivity - 4.6/5, Neighborhood - 4.5/5, Safety - 4.6/5, Livability - 4.7/5\n",
       "* Good Points: Accessible amenities nearby, peaceful locality, high security standard\n",
       "* Bad Points: Ban loudspeakers by hawkers, high pollution levels, high rents in the city\n",
       "\n",
       "Please note that this is the only property in Shela that matches your price range. I recommend verifying the information with the developer or a reliable source before making a decision.\n",
       "\n",
       "If you'd like to explore more options, I can suggest you to check the properties in Shela on real estate websites like Housing.com, 99acres.com, or Magicbricks.com. You can also contact local real estate agents or brokers who have knowledge of the area and can guide you through the process."
      ],
      "text/plain": [
       "<IPython.core.display.Markdown object>"
      ]
     },
     "metadata": {},
     "output_type": "display_data"
    }
   ],
   "source": [
    "question = \"Okay than suggest me properties in shela?\"\n",
    "ai_msg = rag_chain.invoke({\"input\": question, \"chat_history\": chat_history})\n",
    "chat_history.extend(\n",
    "    [\n",
    "        HumanMessage(content=str(question)),\n",
    "        AIMessage(content=ai_msg[\"answer\"]),\n",
    "    ]\n",
    ")\n",
    "display(Markdown(ai_msg[\"answer\"]))"
   ]
  },
  {
   "cell_type": "code",
   "execution_count": 49,
   "metadata": {},
   "outputs": [
    {
     "data": {
      "text/markdown": [
       "I apologize for not knowing about Vishwanath Sarathya West earlier. As I'm a large language model, my training data is based on the information I was provided, and not all properties or information may be included.\n",
       "\n",
       "However, since you've mentioned Vishwanath Sarathya West, I'd like to know more about it. Can you please provide me with more information about this property, such as its location, price range, and amenities? This will help me better understand your requirements and provide a more accurate response."
      ],
      "text/plain": [
       "<IPython.core.display.Markdown object>"
      ]
     },
     "metadata": {},
     "output_type": "display_data"
    }
   ],
   "source": [
    "question = \"There is property named Vishwanath Sarathya West.don't you know about it?\"\n",
    "ai_msg = rag_chain.invoke({\"input\": question, \"chat_history\": chat_history})\n",
    "chat_history.extend(\n",
    "    [\n",
    "        HumanMessage(content=str(question)),\n",
    "        AIMessage(content=ai_msg[\"answer\"]),\n",
    "    ]\n",
    ")\n",
    "display(Markdown(ai_msg[\"answer\"]))"
   ]
  },
  {
   "cell_type": "code",
   "execution_count": null,
   "metadata": {},
   "outputs": [],
   "source": []
  }
 ],
 "metadata": {
  "kernelspec": {
   "display_name": "venv",
   "language": "python",
   "name": "python3"
  },
  "language_info": {
   "codemirror_mode": {
    "name": "ipython",
    "version": 3
   },
   "file_extension": ".py",
   "mimetype": "text/x-python",
   "name": "python",
   "nbconvert_exporter": "python",
   "pygments_lexer": "ipython3",
   "version": "3.12.1"
  }
 },
 "nbformat": 4,
 "nbformat_minor": 2
}
